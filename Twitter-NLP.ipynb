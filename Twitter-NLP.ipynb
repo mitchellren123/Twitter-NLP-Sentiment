{
 "cells": [
  {
   "cell_type": "markdown",
   "metadata": {},
   "source": [
    "## Business & Data Understanding"
   ]
  },
  {
   "cell_type": "markdown",
   "metadata": {},
   "source": [
    "My goal is to build models that Twitter can use for sentiment analysis. Twitter would use these models to categorize tweets into positive or negative, and share this information with companies that might be interested to learn more about how customers are reacting to their products. I will be using a dataset comprised of 9,000 tweets from customers of either Apple or Google products."
   ]
  },
  {
   "cell_type": "markdown",
   "metadata": {},
   "source": [
    "## Data Preparation"
   ]
  },
  {
   "cell_type": "code",
   "execution_count": 68,
   "metadata": {},
   "outputs": [],
   "source": [
    "import pandas as pd\n",
    "import numpy as np\n",
    "import warnings\n",
    "warnings.filterwarnings('ignore')"
   ]
  },
  {
   "cell_type": "code",
   "execution_count": 69,
   "metadata": {},
   "outputs": [],
   "source": [
    "df = pd.read_csv('judge-1377884607_tweet_product_company.csv', encoding = 'unicode_escape')"
   ]
  },
  {
   "cell_type": "code",
   "execution_count": 70,
   "metadata": {},
   "outputs": [
    {
     "data": {
      "text/html": [
       "<div>\n",
       "<style scoped>\n",
       "    .dataframe tbody tr th:only-of-type {\n",
       "        vertical-align: middle;\n",
       "    }\n",
       "\n",
       "    .dataframe tbody tr th {\n",
       "        vertical-align: top;\n",
       "    }\n",
       "\n",
       "    .dataframe thead th {\n",
       "        text-align: right;\n",
       "    }\n",
       "</style>\n",
       "<table border=\"1\" class=\"dataframe\">\n",
       "  <thead>\n",
       "    <tr style=\"text-align: right;\">\n",
       "      <th></th>\n",
       "      <th>tweet_text</th>\n",
       "      <th>emotion_in_tweet_is_directed_at</th>\n",
       "      <th>is_there_an_emotion_directed_at_a_brand_or_product</th>\n",
       "    </tr>\n",
       "  </thead>\n",
       "  <tbody>\n",
       "    <tr>\n",
       "      <th>0</th>\n",
       "      <td>.@wesley83 I have a 3G iPhone. After 3 hrs twe...</td>\n",
       "      <td>iPhone</td>\n",
       "      <td>Negative emotion</td>\n",
       "    </tr>\n",
       "    <tr>\n",
       "      <th>1</th>\n",
       "      <td>@jessedee Know about @fludapp ? Awesome iPad/i...</td>\n",
       "      <td>iPad or iPhone App</td>\n",
       "      <td>Positive emotion</td>\n",
       "    </tr>\n",
       "    <tr>\n",
       "      <th>2</th>\n",
       "      <td>@swonderlin Can not wait for #iPad 2 also. The...</td>\n",
       "      <td>iPad</td>\n",
       "      <td>Positive emotion</td>\n",
       "    </tr>\n",
       "    <tr>\n",
       "      <th>3</th>\n",
       "      <td>@sxsw I hope this year's festival isn't as cra...</td>\n",
       "      <td>iPad or iPhone App</td>\n",
       "      <td>Negative emotion</td>\n",
       "    </tr>\n",
       "    <tr>\n",
       "      <th>4</th>\n",
       "      <td>@sxtxstate great stuff on Fri #SXSW: Marissa M...</td>\n",
       "      <td>Google</td>\n",
       "      <td>Positive emotion</td>\n",
       "    </tr>\n",
       "  </tbody>\n",
       "</table>\n",
       "</div>"
      ],
      "text/plain": [
       "                                          tweet_text  \\\n",
       "0  .@wesley83 I have a 3G iPhone. After 3 hrs twe...   \n",
       "1  @jessedee Know about @fludapp ? Awesome iPad/i...   \n",
       "2  @swonderlin Can not wait for #iPad 2 also. The...   \n",
       "3  @sxsw I hope this year's festival isn't as cra...   \n",
       "4  @sxtxstate great stuff on Fri #SXSW: Marissa M...   \n",
       "\n",
       "  emotion_in_tweet_is_directed_at  \\\n",
       "0                          iPhone   \n",
       "1              iPad or iPhone App   \n",
       "2                            iPad   \n",
       "3              iPad or iPhone App   \n",
       "4                          Google   \n",
       "\n",
       "  is_there_an_emotion_directed_at_a_brand_or_product  \n",
       "0                                   Negative emotion  \n",
       "1                                   Positive emotion  \n",
       "2                                   Positive emotion  \n",
       "3                                   Negative emotion  \n",
       "4                                   Positive emotion  "
      ]
     },
     "execution_count": 70,
     "metadata": {},
     "output_type": "execute_result"
    }
   ],
   "source": [
    "df.head()"
   ]
  },
  {
   "cell_type": "code",
   "execution_count": 71,
   "metadata": {},
   "outputs": [
    {
     "name": "stdout",
     "output_type": "stream",
     "text": [
      "<class 'pandas.core.frame.DataFrame'>\n",
      "RangeIndex: 9093 entries, 0 to 9092\n",
      "Data columns (total 3 columns):\n",
      " #   Column                                              Non-Null Count  Dtype \n",
      "---  ------                                              --------------  ----- \n",
      " 0   tweet_text                                          9092 non-null   object\n",
      " 1   emotion_in_tweet_is_directed_at                     3291 non-null   object\n",
      " 2   is_there_an_emotion_directed_at_a_brand_or_product  9093 non-null   object\n",
      "dtypes: object(3)\n",
      "memory usage: 213.2+ KB\n"
     ]
    }
   ],
   "source": [
    "df.info()"
   ]
  },
  {
   "cell_type": "markdown",
   "metadata": {},
   "source": [
    "There appear to be many null values in the 'emotion_in_tweet_is_directed_at' column. I will further investigate those values shortly to understand how I should be handling them. "
   ]
  },
  {
   "cell_type": "code",
   "execution_count": 72,
   "metadata": {},
   "outputs": [
    {
     "data": {
      "text/plain": [
       "iPad                               946\n",
       "Apple                              661\n",
       "iPad or iPhone App                 470\n",
       "Google                             430\n",
       "iPhone                             297\n",
       "Other Google product or service    293\n",
       "Android App                         81\n",
       "Android                             78\n",
       "Other Apple product or service      35\n",
       "Name: emotion_in_tweet_is_directed_at, dtype: int64"
      ]
     },
     "execution_count": 72,
     "metadata": {},
     "output_type": "execute_result"
    }
   ],
   "source": [
    "df['emotion_in_tweet_is_directed_at'].value_counts()"
   ]
  },
  {
   "cell_type": "markdown",
   "metadata": {},
   "source": [
    "Each unique value in this column seems to classify the emotion in the tweet as either directed at a Google product or an Apple product. Since there is not an 'Other' value of sorts, I assume that the null values are directed at something non-product related, or that there simply is on emotion in the tweet. I can confirm this by further investigating the dataset."
   ]
  },
  {
   "cell_type": "code",
   "execution_count": 73,
   "metadata": {},
   "outputs": [
    {
     "data": {
      "text/plain": [
       "No emotion toward brand or product    5389\n",
       "Positive emotion                      2978\n",
       "Negative emotion                       570\n",
       "I can't tell                           156\n",
       "Name: is_there_an_emotion_directed_at_a_brand_or_product, dtype: int64"
      ]
     },
     "execution_count": 73,
     "metadata": {},
     "output_type": "execute_result"
    }
   ],
   "source": [
    "df['is_there_an_emotion_directed_at_a_brand_or_product'].value_counts()"
   ]
  },
  {
   "cell_type": "markdown",
   "metadata": {},
   "source": [
    "There appear to be a few categories for this yes or no question. To keep things simple, I will subset the data to only include either 'Positive emotion' or 'Negative emotion'. This will allow me to build a binary classifier. Let's also see how that impacted the null values we noticed."
   ]
  },
  {
   "cell_type": "code",
   "execution_count": 74,
   "metadata": {},
   "outputs": [
    {
     "name": "stdout",
     "output_type": "stream",
     "text": [
      "<class 'pandas.core.frame.DataFrame'>\n",
      "Int64Index: 3548 entries, 0 to 9088\n",
      "Data columns (total 3 columns):\n",
      " #   Column                                              Non-Null Count  Dtype \n",
      "---  ------                                              --------------  ----- \n",
      " 0   tweet_text                                          3548 non-null   object\n",
      " 1   emotion_in_tweet_is_directed_at                     3191 non-null   object\n",
      " 2   is_there_an_emotion_directed_at_a_brand_or_product  3548 non-null   object\n",
      "dtypes: object(3)\n",
      "memory usage: 110.9+ KB\n"
     ]
    }
   ],
   "source": [
    "binary_df = df[(df['is_there_an_emotion_directed_at_a_brand_or_product'] == 'Positive emotion') | \n",
    "               (df['is_there_an_emotion_directed_at_a_brand_or_product'] == 'Negative emotion')]\n",
    "\n",
    "binary_df.info()"
   ]
  },
  {
   "cell_type": "markdown",
   "metadata": {},
   "source": [
    "Turning this dataset into a binary one seems to have addressed a majority of the null values we saw originally in the 'emotion_in_tweet_is_directed_at' column. However, there are still over 300 null values in that column. Let's take a closer look to see what those might be."
   ]
  },
  {
   "cell_type": "code",
   "execution_count": 75,
   "metadata": {},
   "outputs": [
    {
     "data": {
      "text/html": [
       "<div>\n",
       "<style scoped>\n",
       "    .dataframe tbody tr th:only-of-type {\n",
       "        vertical-align: middle;\n",
       "    }\n",
       "\n",
       "    .dataframe tbody tr th {\n",
       "        vertical-align: top;\n",
       "    }\n",
       "\n",
       "    .dataframe thead th {\n",
       "        text-align: right;\n",
       "    }\n",
       "</style>\n",
       "<table border=\"1\" class=\"dataframe\">\n",
       "  <thead>\n",
       "    <tr style=\"text-align: right;\">\n",
       "      <th></th>\n",
       "      <th>tweet_text</th>\n",
       "      <th>emotion_in_tweet_is_directed_at</th>\n",
       "      <th>is_there_an_emotion_directed_at_a_brand_or_product</th>\n",
       "    </tr>\n",
       "  </thead>\n",
       "  <tbody>\n",
       "    <tr>\n",
       "      <th>46</th>\n",
       "      <td>Hand-Held Û÷HoboÛª: Drafthouse launches Û÷H...</td>\n",
       "      <td>NaN</td>\n",
       "      <td>Positive emotion</td>\n",
       "    </tr>\n",
       "    <tr>\n",
       "      <th>64</th>\n",
       "      <td>Again? RT @mention Line at the Apple store is ...</td>\n",
       "      <td>NaN</td>\n",
       "      <td>Negative emotion</td>\n",
       "    </tr>\n",
       "    <tr>\n",
       "      <th>68</th>\n",
       "      <td>Boooo! RT @mention Flipboard is developing an ...</td>\n",
       "      <td>NaN</td>\n",
       "      <td>Negative emotion</td>\n",
       "    </tr>\n",
       "    <tr>\n",
       "      <th>103</th>\n",
       "      <td>Know that &amp;quot;dataviz&amp;quot; translates to &amp;q...</td>\n",
       "      <td>NaN</td>\n",
       "      <td>Negative emotion</td>\n",
       "    </tr>\n",
       "    <tr>\n",
       "      <th>112</th>\n",
       "      <td>Spark for #android is up for a #teamandroid aw...</td>\n",
       "      <td>NaN</td>\n",
       "      <td>Positive emotion</td>\n",
       "    </tr>\n",
       "    <tr>\n",
       "      <th>...</th>\n",
       "      <td>...</td>\n",
       "      <td>...</td>\n",
       "      <td>...</td>\n",
       "    </tr>\n",
       "    <tr>\n",
       "      <th>9011</th>\n",
       "      <td>apparently the line to get an iPad at the #sxs...</td>\n",
       "      <td>NaN</td>\n",
       "      <td>Positive emotion</td>\n",
       "    </tr>\n",
       "    <tr>\n",
       "      <th>9043</th>\n",
       "      <td>Hey is anyone doing #sxsw signing up for the g...</td>\n",
       "      <td>NaN</td>\n",
       "      <td>Negative emotion</td>\n",
       "    </tr>\n",
       "    <tr>\n",
       "      <th>9049</th>\n",
       "      <td>@mention you can buy my used iPad and I'll pic...</td>\n",
       "      <td>NaN</td>\n",
       "      <td>Positive emotion</td>\n",
       "    </tr>\n",
       "    <tr>\n",
       "      <th>9052</th>\n",
       "      <td>@mention You could buy a new iPad 2 tmrw at th...</td>\n",
       "      <td>NaN</td>\n",
       "      <td>Positive emotion</td>\n",
       "    </tr>\n",
       "    <tr>\n",
       "      <th>9054</th>\n",
       "      <td>Guys, if you ever plan on attending #SXSW, you...</td>\n",
       "      <td>NaN</td>\n",
       "      <td>Positive emotion</td>\n",
       "    </tr>\n",
       "  </tbody>\n",
       "</table>\n",
       "<p>357 rows × 3 columns</p>\n",
       "</div>"
      ],
      "text/plain": [
       "                                             tweet_text  \\\n",
       "46    Hand-Held Û÷HoboÛª: Drafthouse launches Û÷H...   \n",
       "64    Again? RT @mention Line at the Apple store is ...   \n",
       "68    Boooo! RT @mention Flipboard is developing an ...   \n",
       "103   Know that &quot;dataviz&quot; translates to &q...   \n",
       "112   Spark for #android is up for a #teamandroid aw...   \n",
       "...                                                 ...   \n",
       "9011  apparently the line to get an iPad at the #sxs...   \n",
       "9043  Hey is anyone doing #sxsw signing up for the g...   \n",
       "9049  @mention you can buy my used iPad and I'll pic...   \n",
       "9052  @mention You could buy a new iPad 2 tmrw at th...   \n",
       "9054  Guys, if you ever plan on attending #SXSW, you...   \n",
       "\n",
       "     emotion_in_tweet_is_directed_at  \\\n",
       "46                               NaN   \n",
       "64                               NaN   \n",
       "68                               NaN   \n",
       "103                              NaN   \n",
       "112                              NaN   \n",
       "...                              ...   \n",
       "9011                             NaN   \n",
       "9043                             NaN   \n",
       "9049                             NaN   \n",
       "9052                             NaN   \n",
       "9054                             NaN   \n",
       "\n",
       "     is_there_an_emotion_directed_at_a_brand_or_product  \n",
       "46                                     Positive emotion  \n",
       "64                                     Negative emotion  \n",
       "68                                     Negative emotion  \n",
       "103                                    Negative emotion  \n",
       "112                                    Positive emotion  \n",
       "...                                                 ...  \n",
       "9011                                   Positive emotion  \n",
       "9043                                   Negative emotion  \n",
       "9049                                   Positive emotion  \n",
       "9052                                   Positive emotion  \n",
       "9054                                   Positive emotion  \n",
       "\n",
       "[357 rows x 3 columns]"
      ]
     },
     "execution_count": 75,
     "metadata": {},
     "output_type": "execute_result"
    }
   ],
   "source": [
    "binary_df_nulls = binary_df[binary_df['emotion_in_tweet_is_directed_at'].isna() == True]\n",
    "binary_df_nulls"
   ]
  },
  {
   "cell_type": "code",
   "execution_count": 76,
   "metadata": {},
   "outputs": [
    {
     "data": {
      "text/plain": [
       "'Again? RT @mention Line at the Apple store is insane.. #sxsw'"
      ]
     },
     "execution_count": 76,
     "metadata": {},
     "output_type": "execute_result"
    }
   ],
   "source": [
    "binary_df_nulls['tweet_text'][64]"
   ]
  },
  {
   "cell_type": "code",
   "execution_count": 77,
   "metadata": {},
   "outputs": [
    {
     "data": {
      "text/plain": [
       "'Boooo! RT @mention Flipboard is developing an iPhone version, not Android, says @mention #sxsw'"
      ]
     },
     "execution_count": 77,
     "metadata": {},
     "output_type": "execute_result"
    }
   ],
   "source": [
    "binary_df_nulls['tweet_text'][68]"
   ]
  },
  {
   "cell_type": "code",
   "execution_count": 78,
   "metadata": {},
   "outputs": [
    {
     "data": {
      "text/plain": [
       "\"Know that &quot;dataviz&quot; translates to &quot;satanic&quot; on an iPhone. I'm just sayin'. #sxsw\""
      ]
     },
     "execution_count": 78,
     "metadata": {},
     "output_type": "execute_result"
    }
   ],
   "source": [
    "binary_df_nulls['tweet_text'][103]"
   ]
  },
  {
   "cell_type": "markdown",
   "metadata": {},
   "source": [
    "For the above 3 examples - it seems as though there is an emotion and mention of Google or Apple, but the emotion is not necessarily directed at the companies or their products. As such, I will drop these cases since they do not tell us how a customer felt either positively or negatively about the companies or products."
   ]
  },
  {
   "cell_type": "code",
   "execution_count": 79,
   "metadata": {},
   "outputs": [
    {
     "data": {
      "text/html": [
       "<div>\n",
       "<style scoped>\n",
       "    .dataframe tbody tr th:only-of-type {\n",
       "        vertical-align: middle;\n",
       "    }\n",
       "\n",
       "    .dataframe tbody tr th {\n",
       "        vertical-align: top;\n",
       "    }\n",
       "\n",
       "    .dataframe thead th {\n",
       "        text-align: right;\n",
       "    }\n",
       "</style>\n",
       "<table border=\"1\" class=\"dataframe\">\n",
       "  <thead>\n",
       "    <tr style=\"text-align: right;\">\n",
       "      <th></th>\n",
       "      <th>tweet_text</th>\n",
       "      <th>is_there_an_emotion_directed_at_a_brand_or_product</th>\n",
       "    </tr>\n",
       "  </thead>\n",
       "  <tbody>\n",
       "    <tr>\n",
       "      <th>0</th>\n",
       "      <td>.@wesley83 I have a 3G iPhone. After 3 hrs twe...</td>\n",
       "      <td>0</td>\n",
       "    </tr>\n",
       "    <tr>\n",
       "      <th>1</th>\n",
       "      <td>@jessedee Know about @fludapp ? Awesome iPad/i...</td>\n",
       "      <td>1</td>\n",
       "    </tr>\n",
       "    <tr>\n",
       "      <th>2</th>\n",
       "      <td>@swonderlin Can not wait for #iPad 2 also. The...</td>\n",
       "      <td>1</td>\n",
       "    </tr>\n",
       "    <tr>\n",
       "      <th>3</th>\n",
       "      <td>@sxsw I hope this year's festival isn't as cra...</td>\n",
       "      <td>0</td>\n",
       "    </tr>\n",
       "    <tr>\n",
       "      <th>4</th>\n",
       "      <td>@sxtxstate great stuff on Fri #SXSW: Marissa M...</td>\n",
       "      <td>1</td>\n",
       "    </tr>\n",
       "    <tr>\n",
       "      <th>...</th>\n",
       "      <td>...</td>\n",
       "      <td>...</td>\n",
       "    </tr>\n",
       "    <tr>\n",
       "      <th>9077</th>\n",
       "      <td>@mention your PR guy just convinced me to swit...</td>\n",
       "      <td>1</td>\n",
       "    </tr>\n",
       "    <tr>\n",
       "      <th>9079</th>\n",
       "      <td>&amp;quot;papyrus...sort of like the ipad&amp;quot; - ...</td>\n",
       "      <td>1</td>\n",
       "    </tr>\n",
       "    <tr>\n",
       "      <th>9080</th>\n",
       "      <td>Diller says Google TV &amp;quot;might be run over ...</td>\n",
       "      <td>0</td>\n",
       "    </tr>\n",
       "    <tr>\n",
       "      <th>9085</th>\n",
       "      <td>I've always used Camera+ for my iPhone b/c it ...</td>\n",
       "      <td>1</td>\n",
       "    </tr>\n",
       "    <tr>\n",
       "      <th>9088</th>\n",
       "      <td>Ipad everywhere. #SXSW {link}</td>\n",
       "      <td>1</td>\n",
       "    </tr>\n",
       "  </tbody>\n",
       "</table>\n",
       "<p>3191 rows × 2 columns</p>\n",
       "</div>"
      ],
      "text/plain": [
       "                                             tweet_text  \\\n",
       "0     .@wesley83 I have a 3G iPhone. After 3 hrs twe...   \n",
       "1     @jessedee Know about @fludapp ? Awesome iPad/i...   \n",
       "2     @swonderlin Can not wait for #iPad 2 also. The...   \n",
       "3     @sxsw I hope this year's festival isn't as cra...   \n",
       "4     @sxtxstate great stuff on Fri #SXSW: Marissa M...   \n",
       "...                                                 ...   \n",
       "9077  @mention your PR guy just convinced me to swit...   \n",
       "9079  &quot;papyrus...sort of like the ipad&quot; - ...   \n",
       "9080  Diller says Google TV &quot;might be run over ...   \n",
       "9085  I've always used Camera+ for my iPhone b/c it ...   \n",
       "9088                      Ipad everywhere. #SXSW {link}   \n",
       "\n",
       "      is_there_an_emotion_directed_at_a_brand_or_product  \n",
       "0                                                     0   \n",
       "1                                                     1   \n",
       "2                                                     1   \n",
       "3                                                     0   \n",
       "4                                                     1   \n",
       "...                                                 ...   \n",
       "9077                                                  1   \n",
       "9079                                                  1   \n",
       "9080                                                  0   \n",
       "9085                                                  1   \n",
       "9088                                                  1   \n",
       "\n",
       "[3191 rows x 2 columns]"
      ]
     },
     "execution_count": 79,
     "metadata": {},
     "output_type": "execute_result"
    }
   ],
   "source": [
    "binary_df_nonulls = binary_df.dropna()\n",
    "binary_df_nonulls = binary_df_nonulls.drop(columns = 'emotion_in_tweet_is_directed_at')\n",
    "binary_df_nonulls['is_there_an_emotion_directed_at_a_brand_or_product'] = binary_df_nonulls['is_there_an_emotion_directed_at_a_brand_or_product'].apply(lambda x: 0 if x == 'Negative emotion' else 1)\n",
    "binary_df_nonulls"
   ]
  },
  {
   "cell_type": "markdown",
   "metadata": {},
   "source": [
    "## Data Pre-Processing\n",
    "Now that we have turned the dataset into a binary one, I will take further pre-processing steps ahead of modeling. I will adddress the following in the 'tweet_text' column:\n",
    "\n",
    "- Capitalization\n",
    "- Apostrophes\n",
    "- Numbers\n",
    "- Stopwords"
   ]
  },
  {
   "cell_type": "code",
   "execution_count": 80,
   "metadata": {},
   "outputs": [],
   "source": [
    "import nltk\n",
    "nltk.download('stopwords', quiet=True)\n",
    "from nltk.corpus import stopwords\n",
    "from nltk.collocations import *\n",
    "from nltk import FreqDist\n",
    "from nltk import word_tokenize\n",
    "import string\n",
    "import re\n",
    "from sklearn.model_selection import train_test_split"
   ]
  },
  {
   "cell_type": "markdown",
   "metadata": {},
   "source": [
    "First I will separate the dataset into Train and Test sets so as to avoid any data leakage. We want to maintain the sanctity of the Test set to simulate truly 'unseen' data."
   ]
  },
  {
   "cell_type": "code",
   "execution_count": 81,
   "metadata": {},
   "outputs": [],
   "source": [
    "X = pd.DataFrame(binary_df_nonulls['tweet_text'])\n",
    "y = pd.DataFrame(binary_df_nonulls['is_there_an_emotion_directed_at_a_brand_or_product'])\n",
    "\n",
    "X_train, X_test, y_train, y_test = train_test_split(X, y, random_state=42)"
   ]
  },
  {
   "cell_type": "markdown",
   "metadata": {},
   "source": [
    "Next, I will change all of the tweets to lowercase to ensure on duplication of the same words with different capitlization."
   ]
  },
  {
   "cell_type": "code",
   "execution_count": 82,
   "metadata": {},
   "outputs": [
    {
     "data": {
      "text/plain": [
       "4840    idea is to combine google analytics with other...\n",
       "487     hey #sxsw exhibitors, why not capture your boo...\n",
       "14      great #sxsw ipad app from @madebymany: http://...\n",
       "8795    got a craving? #sxsw minds created an app for ...\n",
       "1113    they'd be stupid not to. // apple is opening a...\n",
       "                              ...                        \n",
       "2931    *g* rt @mention  love the apple pop-up store a...\n",
       "3024    texas observer tomlinson says they would doubl...\n",
       "3481    what's behind #android's race to no. 1? {link}...\n",
       "2340    #sxsw #enchantment: @mention &quot;no one uses...\n",
       "9035    @mention yes, i picked up the ipad 2 at #sxsw....\n",
       "Name: tweet_text, Length: 2393, dtype: object"
      ]
     },
     "execution_count": 82,
     "metadata": {},
     "output_type": "execute_result"
    }
   ],
   "source": [
    "X_train ['tweet_text'] = X_train['tweet_text'].str.lower()\n",
    "X_train ['tweet_text']"
   ]
  },
  {
   "cell_type": "markdown",
   "metadata": {},
   "source": [
    "Now that all of the text is lowercase, I can proceed with tokenizing each tweet."
   ]
  },
  {
   "cell_type": "code",
   "execution_count": 83,
   "metadata": {},
   "outputs": [
    {
     "data": {
      "text/html": [
       "<div>\n",
       "<style scoped>\n",
       "    .dataframe tbody tr th:only-of-type {\n",
       "        vertical-align: middle;\n",
       "    }\n",
       "\n",
       "    .dataframe tbody tr th {\n",
       "        vertical-align: top;\n",
       "    }\n",
       "\n",
       "    .dataframe thead th {\n",
       "        text-align: right;\n",
       "    }\n",
       "</style>\n",
       "<table border=\"1\" class=\"dataframe\">\n",
       "  <thead>\n",
       "    <tr style=\"text-align: right;\">\n",
       "      <th></th>\n",
       "      <th>tweet_text</th>\n",
       "      <th>tokenized</th>\n",
       "    </tr>\n",
       "  </thead>\n",
       "  <tbody>\n",
       "    <tr>\n",
       "      <th>4840</th>\n",
       "      <td>idea is to combine google analytics with other...</td>\n",
       "      <td>[idea, is, to, combine, google, analytics, wit...</td>\n",
       "    </tr>\n",
       "    <tr>\n",
       "      <th>487</th>\n",
       "      <td>hey #sxsw exhibitors, why not capture your boo...</td>\n",
       "      <td>[hey, sxsw, exhibitors, why, not, capture, you...</td>\n",
       "    </tr>\n",
       "    <tr>\n",
       "      <th>14</th>\n",
       "      <td>great #sxsw ipad app from @madebymany: http://...</td>\n",
       "      <td>[great, sxsw, ipad, app, from, madebymany, htt...</td>\n",
       "    </tr>\n",
       "    <tr>\n",
       "      <th>8795</th>\n",
       "      <td>got a craving? #sxsw minds created an app for ...</td>\n",
       "      <td>[got, craving, sxsw, minds, created, an, app, ...</td>\n",
       "    </tr>\n",
       "    <tr>\n",
       "      <th>1113</th>\n",
       "      <td>they'd be stupid not to. // apple is opening a...</td>\n",
       "      <td>[they, be, stupid, not, to, apple, is, opening...</td>\n",
       "    </tr>\n",
       "    <tr>\n",
       "      <th>...</th>\n",
       "      <td>...</td>\n",
       "      <td>...</td>\n",
       "    </tr>\n",
       "    <tr>\n",
       "      <th>2931</th>\n",
       "      <td>*g* rt @mention  love the apple pop-up store a...</td>\n",
       "      <td>[rt, mention, love, the, apple, pop, up, store...</td>\n",
       "    </tr>\n",
       "    <tr>\n",
       "      <th>3024</th>\n",
       "      <td>texas observer tomlinson says they would doubl...</td>\n",
       "      <td>[texas, observer, tomlinson, says, they, would...</td>\n",
       "    </tr>\n",
       "    <tr>\n",
       "      <th>3481</th>\n",
       "      <td>what's behind #android's race to no. 1? {link}...</td>\n",
       "      <td>[what, behind, android, race, to, no, link, sm...</td>\n",
       "    </tr>\n",
       "    <tr>\n",
       "      <th>2340</th>\n",
       "      <td>#sxsw #enchantment: @mention &amp;quot;no one uses...</td>\n",
       "      <td>[sxsw, enchantment, mention, quot, no, one, us...</td>\n",
       "    </tr>\n",
       "    <tr>\n",
       "      <th>9035</th>\n",
       "      <td>@mention yes, i picked up the ipad 2 at #sxsw....</td>\n",
       "      <td>[mention, yes, picked, up, the, ipad, at, sxsw...</td>\n",
       "    </tr>\n",
       "  </tbody>\n",
       "</table>\n",
       "<p>2393 rows × 2 columns</p>\n",
       "</div>"
      ],
      "text/plain": [
       "                                             tweet_text  \\\n",
       "4840  idea is to combine google analytics with other...   \n",
       "487   hey #sxsw exhibitors, why not capture your boo...   \n",
       "14    great #sxsw ipad app from @madebymany: http://...   \n",
       "8795  got a craving? #sxsw minds created an app for ...   \n",
       "1113  they'd be stupid not to. // apple is opening a...   \n",
       "...                                                 ...   \n",
       "2931  *g* rt @mention  love the apple pop-up store a...   \n",
       "3024  texas observer tomlinson says they would doubl...   \n",
       "3481  what's behind #android's race to no. 1? {link}...   \n",
       "2340  #sxsw #enchantment: @mention &quot;no one uses...   \n",
       "9035  @mention yes, i picked up the ipad 2 at #sxsw....   \n",
       "\n",
       "                                              tokenized  \n",
       "4840  [idea, is, to, combine, google, analytics, wit...  \n",
       "487   [hey, sxsw, exhibitors, why, not, capture, you...  \n",
       "14    [great, sxsw, ipad, app, from, madebymany, htt...  \n",
       "8795  [got, craving, sxsw, minds, created, an, app, ...  \n",
       "1113  [they, be, stupid, not, to, apple, is, opening...  \n",
       "...                                                 ...  \n",
       "2931  [rt, mention, love, the, apple, pop, up, store...  \n",
       "3024  [texas, observer, tomlinson, says, they, would...  \n",
       "3481  [what, behind, android, race, to, no, link, sm...  \n",
       "2340  [sxsw, enchantment, mention, quot, no, one, us...  \n",
       "9035  [mention, yes, picked, up, the, ipad, at, sxsw...  \n",
       "\n",
       "[2393 rows x 2 columns]"
      ]
     },
     "execution_count": 83,
     "metadata": {},
     "output_type": "execute_result"
    }
   ],
   "source": [
    "from nltk.tokenize import RegexpTokenizer\n",
    "\n",
    "basic_token_pattern = r\"(?u)\\b\\w\\w+\\b\"\n",
    "tokenizer = RegexpTokenizer(basic_token_pattern)\n",
    "\n",
    "X_train['tokenized'] = X_train['tweet_text'].apply(tokenizer.tokenize)\n",
    "X_train"
   ]
  },
  {
   "cell_type": "markdown",
   "metadata": {},
   "source": [
    "## Frequency Distributions\n",
    "I will take a look at the frequency distributions for the entire dataset, and for the Positive and Negative tweets respectively to get a sense for the type of words customers are using."
   ]
  },
  {
   "cell_type": "code",
   "execution_count": 84,
   "metadata": {},
   "outputs": [],
   "source": [
    "from nltk import FreqDist\n",
    "import matplotlib.pyplot as plt\n",
    "from matplotlib.ticker import MaxNLocator\n",
    "\n",
    "def visualize_top_20(freq_dist, title):\n",
    "\n",
    "    # Extract data for plotting\n",
    "    top_20 = list(zip(*freq_dist.most_common(20)))\n",
    "    tokens = top_20[0][::-1]\n",
    "    counts = top_20[1][::-1]\n",
    "     \n",
    "    # Set up plot and plot data\n",
    "    fig, ax = plt.subplots(figsize = (15,8))\n",
    "    ax.barh(tokens, counts)\n",
    "\n",
    "    # Customize plot appearance\n",
    "    ax.set_title(title)\n",
    "    ax.set_ylabel(\"Tokens\")\n",
    "    ax.tick_params(axis=\"x\")"
   ]
  },
  {
   "cell_type": "code",
   "execution_count": 85,
   "metadata": {},
   "outputs": [
    {
     "data": {
      "image/png": "[encoded data removed]",
      "text/plain": [
       "<Figure size 1080x576 with 1 Axes>"
      ]
     },
     "metadata": {
      "needs_background": "light"
     },
     "output_type": "display_data"
    }
   ],
   "source": [
    "train_freq_dist = FreqDist(X_train['tokenized'].explode())\n",
    "visualize_top_20(train_freq_dist, 'Top 20 Word Frequency for Full Train Set')"
   ]
  },
  {
   "cell_type": "code",
   "execution_count": 86,
   "metadata": {},
   "outputs": [],
   "source": [
    "y_train_positive = y_train[y_train['is_there_an_emotion_directed_at_a_brand_or_product'] == 1].index\n",
    "X_train_positive = X_train[X_train.index.isin(y_train_positive)]\n",
    "\n",
    "y_train_negative = y_train[y_train['is_there_an_emotion_directed_at_a_brand_or_product'] == 0].index\n",
    "X_train_negative = X_train[X_train.index.isin(y_train_negative)]"
   ]
  },
  {
   "cell_type": "code",
   "execution_count": 87,
   "metadata": {},
   "outputs": [
    {
     "data": {
      "image/png": "[encoded data removed]",
      "text/plain": [
       "<Figure size 1080x576 with 1 Axes>"
      ]
     },
     "metadata": {
      "needs_background": "light"
     },
     "output_type": "display_data"
    }
   ],
   "source": [
    "train_freq_dist_positive = FreqDist(X_train_positive['tokenized'].explode())\n",
    "visualize_top_20(train_freq_dist_positive, 'Top 20 Word Frequency for Positive Train Set')"
   ]
  },
  {
   "cell_type": "code",
   "execution_count": 88,
   "metadata": {},
   "outputs": [
    {
     "data": {
      "image/png": "[encoded data removed]",
      "text/plain": [
       "<Figure size 1080x576 with 1 Axes>"
      ]
     },
     "metadata": {
      "needs_background": "light"
     },
     "output_type": "display_data"
    }
   ],
   "source": [
    "train_freq_dist_negative = FreqDist(X_train_negative['tokenized'].explode())\n",
    "visualize_top_20(train_freq_dist_negative, 'Top 20 Word Frequency for Negative Train Set')"
   ]
  },
  {
   "cell_type": "markdown",
   "metadata": {},
   "source": [
    "The frequency distributions we produced above are not very interesting because they contain stopwords. I will fit my baseline model on the dataset that contains stopwords, however I will eventually remove them and see how that improves model performance. At that point we can also take a look at how removing stopwords impacts our word frequency distributions."
   ]
  },
  {
   "cell_type": "markdown",
   "metadata": {},
   "source": [
    "## Fit baseline Model"
   ]
  },
  {
   "cell_type": "markdown",
   "metadata": {},
   "source": [
    "Before fitting my baseline model, I will need to use TfidVectorizer to transform my dataset into matrix format. In doing so I am generating Term-Frequency Inverse Document-Frequency scores which essentially measure the importance of words in the context of other words in a corpus. In this case our corpus is the collection of tweets. "
   ]
  },
  {
   "cell_type": "code",
   "execution_count": 89,
   "metadata": {},
   "outputs": [
    {
     "data": {
      "text/html": [
       "<div>\n",
       "<style scoped>\n",
       "    .dataframe tbody tr th:only-of-type {\n",
       "        vertical-align: middle;\n",
       "    }\n",
       "\n",
       "    .dataframe tbody tr th {\n",
       "        vertical-align: top;\n",
       "    }\n",
       "\n",
       "    .dataframe thead th {\n",
       "        text-align: right;\n",
       "    }\n",
       "</style>\n",
       "<table border=\"1\" class=\"dataframe\">\n",
       "  <thead>\n",
       "    <tr style=\"text-align: right;\">\n",
       "      <th></th>\n",
       "      <th>and</th>\n",
       "      <th>apple</th>\n",
       "      <th>at</th>\n",
       "      <th>for</th>\n",
       "      <th>google</th>\n",
       "      <th>in</th>\n",
       "      <th>ipad</th>\n",
       "      <th>iphone</th>\n",
       "      <th>is</th>\n",
       "      <th>it</th>\n",
       "      <th>link</th>\n",
       "      <th>mention</th>\n",
       "      <th>of</th>\n",
       "      <th>on</th>\n",
       "      <th>quot</th>\n",
       "      <th>rt</th>\n",
       "      <th>store</th>\n",
       "      <th>sxsw</th>\n",
       "      <th>the</th>\n",
       "      <th>to</th>\n",
       "    </tr>\n",
       "  </thead>\n",
       "  <tbody>\n",
       "    <tr>\n",
       "      <th>0</th>\n",
       "      <td>0.0</td>\n",
       "      <td>0.000000</td>\n",
       "      <td>0.000000</td>\n",
       "      <td>0.000000</td>\n",
       "      <td>0.40709</td>\n",
       "      <td>0.000000</td>\n",
       "      <td>0.000000</td>\n",
       "      <td>0.00000</td>\n",
       "      <td>0.829190</td>\n",
       "      <td>0.0</td>\n",
       "      <td>0.000000</td>\n",
       "      <td>0.000000</td>\n",
       "      <td>0.000000</td>\n",
       "      <td>0.0</td>\n",
       "      <td>0.000000</td>\n",
       "      <td>0.000000</td>\n",
       "      <td>0.00000</td>\n",
       "      <td>0.162707</td>\n",
       "      <td>0.000000</td>\n",
       "      <td>0.346769</td>\n",
       "    </tr>\n",
       "    <tr>\n",
       "      <th>1</th>\n",
       "      <td>0.0</td>\n",
       "      <td>0.000000</td>\n",
       "      <td>0.000000</td>\n",
       "      <td>0.000000</td>\n",
       "      <td>0.00000</td>\n",
       "      <td>0.000000</td>\n",
       "      <td>0.686595</td>\n",
       "      <td>0.00000</td>\n",
       "      <td>0.000000</td>\n",
       "      <td>0.0</td>\n",
       "      <td>0.651188</td>\n",
       "      <td>0.000000</td>\n",
       "      <td>0.000000</td>\n",
       "      <td>0.0</td>\n",
       "      <td>0.000000</td>\n",
       "      <td>0.000000</td>\n",
       "      <td>0.00000</td>\n",
       "      <td>0.323331</td>\n",
       "      <td>0.000000</td>\n",
       "      <td>0.000000</td>\n",
       "    </tr>\n",
       "    <tr>\n",
       "      <th>2</th>\n",
       "      <td>0.0</td>\n",
       "      <td>0.000000</td>\n",
       "      <td>0.000000</td>\n",
       "      <td>0.000000</td>\n",
       "      <td>0.00000</td>\n",
       "      <td>0.000000</td>\n",
       "      <td>0.904703</td>\n",
       "      <td>0.00000</td>\n",
       "      <td>0.000000</td>\n",
       "      <td>0.0</td>\n",
       "      <td>0.000000</td>\n",
       "      <td>0.000000</td>\n",
       "      <td>0.000000</td>\n",
       "      <td>0.0</td>\n",
       "      <td>0.000000</td>\n",
       "      <td>0.000000</td>\n",
       "      <td>0.00000</td>\n",
       "      <td>0.426042</td>\n",
       "      <td>0.000000</td>\n",
       "      <td>0.000000</td>\n",
       "    </tr>\n",
       "    <tr>\n",
       "      <th>3</th>\n",
       "      <td>0.0</td>\n",
       "      <td>0.000000</td>\n",
       "      <td>0.000000</td>\n",
       "      <td>0.563453</td>\n",
       "      <td>0.00000</td>\n",
       "      <td>0.000000</td>\n",
       "      <td>0.000000</td>\n",
       "      <td>0.62451</td>\n",
       "      <td>0.000000</td>\n",
       "      <td>0.0</td>\n",
       "      <td>0.484413</td>\n",
       "      <td>0.000000</td>\n",
       "      <td>0.000000</td>\n",
       "      <td>0.0</td>\n",
       "      <td>0.000000</td>\n",
       "      <td>0.000000</td>\n",
       "      <td>0.00000</td>\n",
       "      <td>0.240523</td>\n",
       "      <td>0.000000</td>\n",
       "      <td>0.000000</td>\n",
       "    </tr>\n",
       "    <tr>\n",
       "      <th>4</th>\n",
       "      <td>0.0</td>\n",
       "      <td>0.314602</td>\n",
       "      <td>0.000000</td>\n",
       "      <td>0.323379</td>\n",
       "      <td>0.00000</td>\n",
       "      <td>0.366641</td>\n",
       "      <td>0.293133</td>\n",
       "      <td>0.00000</td>\n",
       "      <td>0.351747</td>\n",
       "      <td>0.0</td>\n",
       "      <td>0.278017</td>\n",
       "      <td>0.230680</td>\n",
       "      <td>0.000000</td>\n",
       "      <td>0.0</td>\n",
       "      <td>0.000000</td>\n",
       "      <td>0.000000</td>\n",
       "      <td>0.38750</td>\n",
       "      <td>0.138042</td>\n",
       "      <td>0.257097</td>\n",
       "      <td>0.294203</td>\n",
       "    </tr>\n",
       "    <tr>\n",
       "      <th>...</th>\n",
       "      <td>...</td>\n",
       "      <td>...</td>\n",
       "      <td>...</td>\n",
       "      <td>...</td>\n",
       "      <td>...</td>\n",
       "      <td>...</td>\n",
       "      <td>...</td>\n",
       "      <td>...</td>\n",
       "      <td>...</td>\n",
       "      <td>...</td>\n",
       "      <td>...</td>\n",
       "      <td>...</td>\n",
       "      <td>...</td>\n",
       "      <td>...</td>\n",
       "      <td>...</td>\n",
       "      <td>...</td>\n",
       "      <td>...</td>\n",
       "      <td>...</td>\n",
       "      <td>...</td>\n",
       "      <td>...</td>\n",
       "    </tr>\n",
       "    <tr>\n",
       "      <th>2388</th>\n",
       "      <td>0.0</td>\n",
       "      <td>0.321852</td>\n",
       "      <td>0.616229</td>\n",
       "      <td>0.330832</td>\n",
       "      <td>0.00000</td>\n",
       "      <td>0.000000</td>\n",
       "      <td>0.000000</td>\n",
       "      <td>0.00000</td>\n",
       "      <td>0.000000</td>\n",
       "      <td>0.0</td>\n",
       "      <td>0.000000</td>\n",
       "      <td>0.235996</td>\n",
       "      <td>0.000000</td>\n",
       "      <td>0.0</td>\n",
       "      <td>0.000000</td>\n",
       "      <td>0.324422</td>\n",
       "      <td>0.39643</td>\n",
       "      <td>0.141223</td>\n",
       "      <td>0.263021</td>\n",
       "      <td>0.000000</td>\n",
       "    </tr>\n",
       "    <tr>\n",
       "      <th>2389</th>\n",
       "      <td>0.0</td>\n",
       "      <td>0.000000</td>\n",
       "      <td>0.000000</td>\n",
       "      <td>0.000000</td>\n",
       "      <td>0.00000</td>\n",
       "      <td>0.000000</td>\n",
       "      <td>0.904703</td>\n",
       "      <td>0.00000</td>\n",
       "      <td>0.000000</td>\n",
       "      <td>0.0</td>\n",
       "      <td>0.000000</td>\n",
       "      <td>0.000000</td>\n",
       "      <td>0.000000</td>\n",
       "      <td>0.0</td>\n",
       "      <td>0.000000</td>\n",
       "      <td>0.000000</td>\n",
       "      <td>0.00000</td>\n",
       "      <td>0.426042</td>\n",
       "      <td>0.000000</td>\n",
       "      <td>0.000000</td>\n",
       "    </tr>\n",
       "    <tr>\n",
       "      <th>2390</th>\n",
       "      <td>0.0</td>\n",
       "      <td>0.000000</td>\n",
       "      <td>0.000000</td>\n",
       "      <td>0.000000</td>\n",
       "      <td>0.00000</td>\n",
       "      <td>0.000000</td>\n",
       "      <td>0.000000</td>\n",
       "      <td>0.00000</td>\n",
       "      <td>0.000000</td>\n",
       "      <td>0.0</td>\n",
       "      <td>0.650069</td>\n",
       "      <td>0.000000</td>\n",
       "      <td>0.000000</td>\n",
       "      <td>0.0</td>\n",
       "      <td>0.000000</td>\n",
       "      <td>0.000000</td>\n",
       "      <td>0.00000</td>\n",
       "      <td>0.322775</td>\n",
       "      <td>0.000000</td>\n",
       "      <td>0.687915</td>\n",
       "    </tr>\n",
       "    <tr>\n",
       "      <th>2391</th>\n",
       "      <td>0.0</td>\n",
       "      <td>0.155738</td>\n",
       "      <td>0.000000</td>\n",
       "      <td>0.000000</td>\n",
       "      <td>0.00000</td>\n",
       "      <td>0.181499</td>\n",
       "      <td>0.000000</td>\n",
       "      <td>0.00000</td>\n",
       "      <td>0.174125</td>\n",
       "      <td>0.0</td>\n",
       "      <td>0.000000</td>\n",
       "      <td>0.114193</td>\n",
       "      <td>0.179144</td>\n",
       "      <td>0.0</td>\n",
       "      <td>0.928807</td>\n",
       "      <td>0.000000</td>\n",
       "      <td>0.00000</td>\n",
       "      <td>0.068335</td>\n",
       "      <td>0.000000</td>\n",
       "      <td>0.000000</td>\n",
       "    </tr>\n",
       "    <tr>\n",
       "      <th>2392</th>\n",
       "      <td>0.0</td>\n",
       "      <td>0.000000</td>\n",
       "      <td>0.536614</td>\n",
       "      <td>0.000000</td>\n",
       "      <td>0.00000</td>\n",
       "      <td>0.000000</td>\n",
       "      <td>0.522288</td>\n",
       "      <td>0.00000</td>\n",
       "      <td>0.000000</td>\n",
       "      <td>0.0</td>\n",
       "      <td>0.000000</td>\n",
       "      <td>0.411011</td>\n",
       "      <td>0.000000</td>\n",
       "      <td>0.0</td>\n",
       "      <td>0.000000</td>\n",
       "      <td>0.000000</td>\n",
       "      <td>0.00000</td>\n",
       "      <td>0.245955</td>\n",
       "      <td>0.458080</td>\n",
       "      <td>0.000000</td>\n",
       "    </tr>\n",
       "  </tbody>\n",
       "</table>\n",
       "<p>2393 rows × 20 columns</p>\n",
       "</div>"
      ],
      "text/plain": [
       "      and     apple        at       for   google        in      ipad   iphone  \\\n",
       "0     0.0  0.000000  0.000000  0.000000  0.40709  0.000000  0.000000  0.00000   \n",
       "1     0.0  0.000000  0.000000  0.000000  0.00000  0.000000  0.686595  0.00000   \n",
       "2     0.0  0.000000  0.000000  0.000000  0.00000  0.000000  0.904703  0.00000   \n",
       "3     0.0  0.000000  0.000000  0.563453  0.00000  0.000000  0.000000  0.62451   \n",
       "4     0.0  0.314602  0.000000  0.323379  0.00000  0.366641  0.293133  0.00000   \n",
       "...   ...       ...       ...       ...      ...       ...       ...      ...   \n",
       "2388  0.0  0.321852  0.616229  0.330832  0.00000  0.000000  0.000000  0.00000   \n",
       "2389  0.0  0.000000  0.000000  0.000000  0.00000  0.000000  0.904703  0.00000   \n",
       "2390  0.0  0.000000  0.000000  0.000000  0.00000  0.000000  0.000000  0.00000   \n",
       "2391  0.0  0.155738  0.000000  0.000000  0.00000  0.181499  0.000000  0.00000   \n",
       "2392  0.0  0.000000  0.536614  0.000000  0.00000  0.000000  0.522288  0.00000   \n",
       "\n",
       "            is   it      link   mention        of   on      quot        rt  \\\n",
       "0     0.829190  0.0  0.000000  0.000000  0.000000  0.0  0.000000  0.000000   \n",
       "1     0.000000  0.0  0.651188  0.000000  0.000000  0.0  0.000000  0.000000   \n",
       "2     0.000000  0.0  0.000000  0.000000  0.000000  0.0  0.000000  0.000000   \n",
       "3     0.000000  0.0  0.484413  0.000000  0.000000  0.0  0.000000  0.000000   \n",
       "4     0.351747  0.0  0.278017  0.230680  0.000000  0.0  0.000000  0.000000   \n",
       "...        ...  ...       ...       ...       ...  ...       ...       ...   \n",
       "2388  0.000000  0.0  0.000000  0.235996  0.000000  0.0  0.000000  0.324422   \n",
       "2389  0.000000  0.0  0.000000  0.000000  0.000000  0.0  0.000000  0.000000   \n",
       "2390  0.000000  0.0  0.650069  0.000000  0.000000  0.0  0.000000  0.000000   \n",
       "2391  0.174125  0.0  0.000000  0.114193  0.179144  0.0  0.928807  0.000000   \n",
       "2392  0.000000  0.0  0.000000  0.411011  0.000000  0.0  0.000000  0.000000   \n",
       "\n",
       "        store      sxsw       the        to  \n",
       "0     0.00000  0.162707  0.000000  0.346769  \n",
       "1     0.00000  0.323331  0.000000  0.000000  \n",
       "2     0.00000  0.426042  0.000000  0.000000  \n",
       "3     0.00000  0.240523  0.000000  0.000000  \n",
       "4     0.38750  0.138042  0.257097  0.294203  \n",
       "...       ...       ...       ...       ...  \n",
       "2388  0.39643  0.141223  0.263021  0.000000  \n",
       "2389  0.00000  0.426042  0.000000  0.000000  \n",
       "2390  0.00000  0.322775  0.000000  0.687915  \n",
       "2391  0.00000  0.068335  0.000000  0.000000  \n",
       "2392  0.00000  0.245955  0.458080  0.000000  \n",
       "\n",
       "[2393 rows x 20 columns]"
      ]
     },
     "execution_count": 89,
     "metadata": {},
     "output_type": "execute_result"
    }
   ],
   "source": [
    "from sklearn.feature_extraction.text import TfidfVectorizer\n",
    "\n",
    "tfidf = TfidfVectorizer(max_features = 20)\n",
    "X_train_vectorized = tfidf.fit_transform(X_train['tweet_text'])\n",
    "pd.DataFrame.sparse.from_spmatrix(X_train_vectorized, columns=tfidf.get_feature_names())"
   ]
  },
  {
   "cell_type": "markdown",
   "metadata": {},
   "source": [
    "Now that I have a Sparse Matrix, I can fit my machine learning model. I will first test a Random Forest Classifier to see how it performs."
   ]
  },
  {
   "cell_type": "code",
   "execution_count": 90,
   "metadata": {},
   "outputs": [
    {
     "data": {
      "text/plain": [
       "array([0.82881002, 0.83716075, 0.81210856, 0.84309623, 0.84100418])"
      ]
     },
     "execution_count": 90,
     "metadata": {},
     "output_type": "execute_result"
    }
   ],
   "source": [
    "from sklearn.ensemble import RandomForestClassifier\n",
    "from sklearn.model_selection import cross_val_score\n",
    "\n",
    "baseline_model = RandomForestClassifier()\n",
    "\n",
    "baseline_cv = cross_val_score(baseline_model, X_train_vectorized, y_train)\n",
    "baseline_cv"
   ]
  },
  {
   "cell_type": "code",
   "execution_count": 91,
   "metadata": {},
   "outputs": [
    {
     "data": {
      "text/plain": [
       "0.8324359500703172"
      ]
     },
     "execution_count": 91,
     "metadata": {},
     "output_type": "execute_result"
    }
   ],
   "source": [
    "baseline_cv.mean()"
   ]
  },
  {
   "cell_type": "markdown",
   "metadata": {},
   "source": [
    "Although the above Accuracy score is quite promising, we must keep in mind the class imbalance between Positive and Negative tweets."
   ]
  },
  {
   "cell_type": "code",
   "execution_count": 92,
   "metadata": {},
   "outputs": [
    {
     "data": {
      "text/plain": [
       "is_there_an_emotion_directed_at_a_brand_or_product\n",
       "1                                                     0.835353\n",
       "0                                                     0.164647\n",
       "dtype: float64"
      ]
     },
     "execution_count": 92,
     "metadata": {},
     "output_type": "execute_result"
    }
   ],
   "source": [
    "y_train.value_counts(normalize=True)"
   ]
  },
  {
   "cell_type": "markdown",
   "metadata": {},
   "source": [
    "This means that if our model predicted Positive for all instances, it would end up with an Accuracy score very similar to the one we produced above."
   ]
  },
  {
   "cell_type": "markdown",
   "metadata": {},
   "source": [
    "## Removing Stop Words and Punctuation"
   ]
  },
  {
   "cell_type": "markdown",
   "metadata": {},
   "source": [
    "For my next iteration, I will remove stop words and punctuation from the tweets to further consolidate the corpus and hone in on the most important words."
   ]
  },
  {
   "cell_type": "code",
   "execution_count": 93,
   "metadata": {},
   "outputs": [
    {
     "data": {
      "text/plain": [
       "['i',\n",
       " 'me',\n",
       " 'my',\n",
       " 'myself',\n",
       " 'we',\n",
       " 'our',\n",
       " 'ours',\n",
       " 'ourselves',\n",
       " 'you',\n",
       " \"you're\",\n",
       " \"you've\",\n",
       " \"you'll\",\n",
       " \"you'd\",\n",
       " 'your',\n",
       " 'yours',\n",
       " 'yourself',\n",
       " 'yourselves',\n",
       " 'he',\n",
       " 'him',\n",
       " 'his']"
      ]
     },
     "execution_count": 93,
     "metadata": {},
     "output_type": "execute_result"
    }
   ],
   "source": [
    "import nltk\n",
    "nltk.download('stopwords', quiet=True)\n",
    "from nltk.corpus import stopwords\n",
    "\n",
    "stopwords_list = stopwords.words('english')\n",
    "stopwords_list[:20]"
   ]
  },
  {
   "cell_type": "markdown",
   "metadata": {},
   "source": [
    "Next I will define a function that takes in a list of tokens and removes any words that are present in the above stop words list."
   ]
  },
  {
   "cell_type": "code",
   "execution_count": 94,
   "metadata": {},
   "outputs": [],
   "source": [
    "def remove_stopwords(token_list):\n",
    "    new_list = []\n",
    "    for token in token_list:\n",
    "        if token not in stopwords_list:\n",
    "            new_list.append(token)\n",
    "        else:\n",
    "            continue\n",
    "    return new_list"
   ]
  },
  {
   "cell_type": "code",
   "execution_count": 95,
   "metadata": {},
   "outputs": [],
   "source": [
    "X_train[\"text_without_stopwords\"] = X_train[\"tokenized\"].apply(remove_stopwords)"
   ]
  },
  {
   "cell_type": "code",
   "execution_count": 96,
   "metadata": {},
   "outputs": [
    {
     "data": {
      "image/png": "[encoded data removed]",
      "text/plain": [
       "<Figure size 1080x576 with 1 Axes>"
      ]
     },
     "metadata": {
      "needs_background": "light"
     },
     "output_type": "display_data"
    }
   ],
   "source": [
    "train_freq_dist_stopwords_removed = FreqDist(X_train['text_without_stopwords'].explode())\n",
    "visualize_top_20(train_freq_dist_stopwords_removed, 'Top 20 Word Frequency for Full Train Set - Stopwords Removed')"
   ]
  },
  {
   "cell_type": "markdown",
   "metadata": {},
   "source": [
    "We can see that removing the stopwords has made room for new words that are more informative. However, a majority of these words are focused on the companies (Google / Apple) as well as products (ipad for example). These words would be hepful for distinguishing between brands and so it might be worth exploring the option of extending the classification type from binary to multi-class - Positive or Negative with product distinction. To understand which words contribute most to the purely Positive or Negative classification, we would need to remove all brand-specific words as well. Before further iterating, let's see how removing the stopwords impacts model performance."
   ]
  },
  {
   "cell_type": "code",
   "execution_count": 97,
   "metadata": {},
   "outputs": [
    {
     "data": {
      "text/html": [
       "<div>\n",
       "<style scoped>\n",
       "    .dataframe tbody tr th:only-of-type {\n",
       "        vertical-align: middle;\n",
       "    }\n",
       "\n",
       "    .dataframe tbody tr th {\n",
       "        vertical-align: top;\n",
       "    }\n",
       "\n",
       "    .dataframe thead th {\n",
       "        text-align: right;\n",
       "    }\n",
       "</style>\n",
       "<table border=\"1\" class=\"dataframe\">\n",
       "  <thead>\n",
       "    <tr style=\"text-align: right;\">\n",
       "      <th></th>\n",
       "      <th>amp</th>\n",
       "      <th>android</th>\n",
       "      <th>app</th>\n",
       "      <th>apple</th>\n",
       "      <th>austin</th>\n",
       "      <th>get</th>\n",
       "      <th>google</th>\n",
       "      <th>ipad</th>\n",
       "      <th>ipad2</th>\n",
       "      <th>iphone</th>\n",
       "      <th>launch</th>\n",
       "      <th>link</th>\n",
       "      <th>mention</th>\n",
       "      <th>new</th>\n",
       "      <th>one</th>\n",
       "      <th>pop</th>\n",
       "      <th>quot</th>\n",
       "      <th>rt</th>\n",
       "      <th>store</th>\n",
       "      <th>sxsw</th>\n",
       "    </tr>\n",
       "  </thead>\n",
       "  <tbody>\n",
       "    <tr>\n",
       "      <th>0</th>\n",
       "      <td>0.000000</td>\n",
       "      <td>0.000000</td>\n",
       "      <td>0.000000</td>\n",
       "      <td>0.000000</td>\n",
       "      <td>0.000000</td>\n",
       "      <td>0.0</td>\n",
       "      <td>0.928578</td>\n",
       "      <td>0.000000</td>\n",
       "      <td>0.0</td>\n",
       "      <td>0.000000</td>\n",
       "      <td>0.000000</td>\n",
       "      <td>0.000000</td>\n",
       "      <td>0.000000</td>\n",
       "      <td>0.0</td>\n",
       "      <td>0.000000</td>\n",
       "      <td>0.000000</td>\n",
       "      <td>0.000000</td>\n",
       "      <td>0.000000</td>\n",
       "      <td>0.000000</td>\n",
       "      <td>0.371136</td>\n",
       "    </tr>\n",
       "    <tr>\n",
       "      <th>1</th>\n",
       "      <td>0.000000</td>\n",
       "      <td>0.000000</td>\n",
       "      <td>0.000000</td>\n",
       "      <td>0.000000</td>\n",
       "      <td>0.000000</td>\n",
       "      <td>0.0</td>\n",
       "      <td>0.000000</td>\n",
       "      <td>0.686595</td>\n",
       "      <td>0.0</td>\n",
       "      <td>0.000000</td>\n",
       "      <td>0.000000</td>\n",
       "      <td>0.651188</td>\n",
       "      <td>0.000000</td>\n",
       "      <td>0.0</td>\n",
       "      <td>0.000000</td>\n",
       "      <td>0.000000</td>\n",
       "      <td>0.000000</td>\n",
       "      <td>0.000000</td>\n",
       "      <td>0.000000</td>\n",
       "      <td>0.323331</td>\n",
       "    </tr>\n",
       "    <tr>\n",
       "      <th>2</th>\n",
       "      <td>0.000000</td>\n",
       "      <td>0.000000</td>\n",
       "      <td>0.793252</td>\n",
       "      <td>0.000000</td>\n",
       "      <td>0.000000</td>\n",
       "      <td>0.0</td>\n",
       "      <td>0.000000</td>\n",
       "      <td>0.550868</td>\n",
       "      <td>0.0</td>\n",
       "      <td>0.000000</td>\n",
       "      <td>0.000000</td>\n",
       "      <td>0.000000</td>\n",
       "      <td>0.000000</td>\n",
       "      <td>0.0</td>\n",
       "      <td>0.000000</td>\n",
       "      <td>0.000000</td>\n",
       "      <td>0.000000</td>\n",
       "      <td>0.000000</td>\n",
       "      <td>0.000000</td>\n",
       "      <td>0.259415</td>\n",
       "    </tr>\n",
       "    <tr>\n",
       "      <th>3</th>\n",
       "      <td>0.000000</td>\n",
       "      <td>0.000000</td>\n",
       "      <td>0.664935</td>\n",
       "      <td>0.000000</td>\n",
       "      <td>0.000000</td>\n",
       "      <td>0.0</td>\n",
       "      <td>0.000000</td>\n",
       "      <td>0.000000</td>\n",
       "      <td>0.0</td>\n",
       "      <td>0.564605</td>\n",
       "      <td>0.000000</td>\n",
       "      <td>0.437947</td>\n",
       "      <td>0.000000</td>\n",
       "      <td>0.0</td>\n",
       "      <td>0.000000</td>\n",
       "      <td>0.000000</td>\n",
       "      <td>0.000000</td>\n",
       "      <td>0.000000</td>\n",
       "      <td>0.000000</td>\n",
       "      <td>0.217451</td>\n",
       "    </tr>\n",
       "    <tr>\n",
       "      <th>4</th>\n",
       "      <td>0.455183</td>\n",
       "      <td>0.000000</td>\n",
       "      <td>0.000000</td>\n",
       "      <td>0.277806</td>\n",
       "      <td>0.418777</td>\n",
       "      <td>0.0</td>\n",
       "      <td>0.000000</td>\n",
       "      <td>0.258848</td>\n",
       "      <td>0.0</td>\n",
       "      <td>0.000000</td>\n",
       "      <td>0.489438</td>\n",
       "      <td>0.245499</td>\n",
       "      <td>0.203699</td>\n",
       "      <td>0.0</td>\n",
       "      <td>0.000000</td>\n",
       "      <td>0.000000</td>\n",
       "      <td>0.000000</td>\n",
       "      <td>0.000000</td>\n",
       "      <td>0.342177</td>\n",
       "      <td>0.121896</td>\n",
       "    </tr>\n",
       "    <tr>\n",
       "      <th>...</th>\n",
       "      <td>...</td>\n",
       "      <td>...</td>\n",
       "      <td>...</td>\n",
       "      <td>...</td>\n",
       "      <td>...</td>\n",
       "      <td>...</td>\n",
       "      <td>...</td>\n",
       "      <td>...</td>\n",
       "      <td>...</td>\n",
       "      <td>...</td>\n",
       "      <td>...</td>\n",
       "      <td>...</td>\n",
       "      <td>...</td>\n",
       "      <td>...</td>\n",
       "      <td>...</td>\n",
       "      <td>...</td>\n",
       "      <td>...</td>\n",
       "      <td>...</td>\n",
       "      <td>...</td>\n",
       "      <td>...</td>\n",
       "    </tr>\n",
       "    <tr>\n",
       "      <th>2388</th>\n",
       "      <td>0.459205</td>\n",
       "      <td>0.000000</td>\n",
       "      <td>0.000000</td>\n",
       "      <td>0.280260</td>\n",
       "      <td>0.000000</td>\n",
       "      <td>0.0</td>\n",
       "      <td>0.000000</td>\n",
       "      <td>0.000000</td>\n",
       "      <td>0.0</td>\n",
       "      <td>0.000000</td>\n",
       "      <td>0.000000</td>\n",
       "      <td>0.000000</td>\n",
       "      <td>0.205499</td>\n",
       "      <td>0.0</td>\n",
       "      <td>0.496954</td>\n",
       "      <td>0.455304</td>\n",
       "      <td>0.000000</td>\n",
       "      <td>0.282498</td>\n",
       "      <td>0.345201</td>\n",
       "      <td>0.122974</td>\n",
       "    </tr>\n",
       "    <tr>\n",
       "      <th>2389</th>\n",
       "      <td>0.000000</td>\n",
       "      <td>0.000000</td>\n",
       "      <td>0.000000</td>\n",
       "      <td>0.000000</td>\n",
       "      <td>0.000000</td>\n",
       "      <td>0.0</td>\n",
       "      <td>0.000000</td>\n",
       "      <td>0.904703</td>\n",
       "      <td>0.0</td>\n",
       "      <td>0.000000</td>\n",
       "      <td>0.000000</td>\n",
       "      <td>0.000000</td>\n",
       "      <td>0.000000</td>\n",
       "      <td>0.0</td>\n",
       "      <td>0.000000</td>\n",
       "      <td>0.000000</td>\n",
       "      <td>0.000000</td>\n",
       "      <td>0.000000</td>\n",
       "      <td>0.000000</td>\n",
       "      <td>0.426042</td>\n",
       "    </tr>\n",
       "    <tr>\n",
       "      <th>2390</th>\n",
       "      <td>0.000000</td>\n",
       "      <td>0.858255</td>\n",
       "      <td>0.000000</td>\n",
       "      <td>0.000000</td>\n",
       "      <td>0.000000</td>\n",
       "      <td>0.0</td>\n",
       "      <td>0.000000</td>\n",
       "      <td>0.000000</td>\n",
       "      <td>0.0</td>\n",
       "      <td>0.000000</td>\n",
       "      <td>0.000000</td>\n",
       "      <td>0.459678</td>\n",
       "      <td>0.000000</td>\n",
       "      <td>0.0</td>\n",
       "      <td>0.000000</td>\n",
       "      <td>0.000000</td>\n",
       "      <td>0.000000</td>\n",
       "      <td>0.000000</td>\n",
       "      <td>0.000000</td>\n",
       "      <td>0.228241</td>\n",
       "    </tr>\n",
       "    <tr>\n",
       "      <th>2391</th>\n",
       "      <td>0.000000</td>\n",
       "      <td>0.000000</td>\n",
       "      <td>0.000000</td>\n",
       "      <td>0.157246</td>\n",
       "      <td>0.000000</td>\n",
       "      <td>0.0</td>\n",
       "      <td>0.000000</td>\n",
       "      <td>0.000000</td>\n",
       "      <td>0.0</td>\n",
       "      <td>0.000000</td>\n",
       "      <td>0.000000</td>\n",
       "      <td>0.000000</td>\n",
       "      <td>0.115300</td>\n",
       "      <td>0.0</td>\n",
       "      <td>0.278827</td>\n",
       "      <td>0.000000</td>\n",
       "      <td>0.937803</td>\n",
       "      <td>0.000000</td>\n",
       "      <td>0.000000</td>\n",
       "      <td>0.068997</td>\n",
       "    </tr>\n",
       "    <tr>\n",
       "      <th>2392</th>\n",
       "      <td>0.000000</td>\n",
       "      <td>0.000000</td>\n",
       "      <td>0.000000</td>\n",
       "      <td>0.000000</td>\n",
       "      <td>0.000000</td>\n",
       "      <td>0.0</td>\n",
       "      <td>0.000000</td>\n",
       "      <td>0.427856</td>\n",
       "      <td>0.0</td>\n",
       "      <td>0.000000</td>\n",
       "      <td>0.000000</td>\n",
       "      <td>0.000000</td>\n",
       "      <td>0.336699</td>\n",
       "      <td>0.0</td>\n",
       "      <td>0.814234</td>\n",
       "      <td>0.000000</td>\n",
       "      <td>0.000000</td>\n",
       "      <td>0.000000</td>\n",
       "      <td>0.000000</td>\n",
       "      <td>0.201486</td>\n",
       "    </tr>\n",
       "  </tbody>\n",
       "</table>\n",
       "<p>2393 rows × 20 columns</p>\n",
       "</div>"
      ],
      "text/plain": [
       "           amp   android       app     apple    austin  get    google  \\\n",
       "0     0.000000  0.000000  0.000000  0.000000  0.000000  0.0  0.928578   \n",
       "1     0.000000  0.000000  0.000000  0.000000  0.000000  0.0  0.000000   \n",
       "2     0.000000  0.000000  0.793252  0.000000  0.000000  0.0  0.000000   \n",
       "3     0.000000  0.000000  0.664935  0.000000  0.000000  0.0  0.000000   \n",
       "4     0.455183  0.000000  0.000000  0.277806  0.418777  0.0  0.000000   \n",
       "...        ...       ...       ...       ...       ...  ...       ...   \n",
       "2388  0.459205  0.000000  0.000000  0.280260  0.000000  0.0  0.000000   \n",
       "2389  0.000000  0.000000  0.000000  0.000000  0.000000  0.0  0.000000   \n",
       "2390  0.000000  0.858255  0.000000  0.000000  0.000000  0.0  0.000000   \n",
       "2391  0.000000  0.000000  0.000000  0.157246  0.000000  0.0  0.000000   \n",
       "2392  0.000000  0.000000  0.000000  0.000000  0.000000  0.0  0.000000   \n",
       "\n",
       "          ipad  ipad2    iphone    launch      link   mention  new       one  \\\n",
       "0     0.000000    0.0  0.000000  0.000000  0.000000  0.000000  0.0  0.000000   \n",
       "1     0.686595    0.0  0.000000  0.000000  0.651188  0.000000  0.0  0.000000   \n",
       "2     0.550868    0.0  0.000000  0.000000  0.000000  0.000000  0.0  0.000000   \n",
       "3     0.000000    0.0  0.564605  0.000000  0.437947  0.000000  0.0  0.000000   \n",
       "4     0.258848    0.0  0.000000  0.489438  0.245499  0.203699  0.0  0.000000   \n",
       "...        ...    ...       ...       ...       ...       ...  ...       ...   \n",
       "2388  0.000000    0.0  0.000000  0.000000  0.000000  0.205499  0.0  0.496954   \n",
       "2389  0.904703    0.0  0.000000  0.000000  0.000000  0.000000  0.0  0.000000   \n",
       "2390  0.000000    0.0  0.000000  0.000000  0.459678  0.000000  0.0  0.000000   \n",
       "2391  0.000000    0.0  0.000000  0.000000  0.000000  0.115300  0.0  0.278827   \n",
       "2392  0.427856    0.0  0.000000  0.000000  0.000000  0.336699  0.0  0.814234   \n",
       "\n",
       "           pop      quot        rt     store      sxsw  \n",
       "0     0.000000  0.000000  0.000000  0.000000  0.371136  \n",
       "1     0.000000  0.000000  0.000000  0.000000  0.323331  \n",
       "2     0.000000  0.000000  0.000000  0.000000  0.259415  \n",
       "3     0.000000  0.000000  0.000000  0.000000  0.217451  \n",
       "4     0.000000  0.000000  0.000000  0.342177  0.121896  \n",
       "...        ...       ...       ...       ...       ...  \n",
       "2388  0.455304  0.000000  0.282498  0.345201  0.122974  \n",
       "2389  0.000000  0.000000  0.000000  0.000000  0.426042  \n",
       "2390  0.000000  0.000000  0.000000  0.000000  0.228241  \n",
       "2391  0.000000  0.937803  0.000000  0.000000  0.068997  \n",
       "2392  0.000000  0.000000  0.000000  0.000000  0.201486  \n",
       "\n",
       "[2393 rows x 20 columns]"
      ]
     },
     "execution_count": 97,
     "metadata": {},
     "output_type": "execute_result"
    }
   ],
   "source": [
    "tfidf2 = TfidfVectorizer(max_features = 20, stop_words = stopwords_list)\n",
    "X_train_vectorized2 = tfidf2.fit_transform(X_train['tweet_text'])\n",
    "pd.DataFrame.sparse.from_spmatrix(X_train_vectorized2, columns=tfidf2.get_feature_names())"
   ]
  },
  {
   "cell_type": "code",
   "execution_count": 98,
   "metadata": {},
   "outputs": [
    {
     "data": {
      "text/plain": [
       "array([0.81837161, 0.80793319, 0.82881002, 0.83263598, 0.83054393])"
      ]
     },
     "execution_count": 98,
     "metadata": {},
     "output_type": "execute_result"
    }
   ],
   "source": [
    "baseline_model_v2 = RandomForestClassifier()\n",
    "\n",
    "stopwords_removed_cv = cross_val_score(baseline_model_v2, X_train_vectorized2, y_train)\n",
    "stopwords_removed_cv"
   ]
  },
  {
   "cell_type": "code",
   "execution_count": 99,
   "metadata": {},
   "outputs": [
    {
     "name": "stdout",
     "output_type": "stream",
     "text": [
      "Baseline:          0.8324359500703172\n",
      "Stopwords removed: 0.8236589477729929\n"
     ]
    }
   ],
   "source": [
    "print(\"Baseline:         \", baseline_cv.mean())\n",
    "print(\"Stopwords removed:\", stopwords_removed_cv.mean())"
   ]
  },
  {
   "cell_type": "markdown",
   "metadata": {},
   "source": [
    "Interestingly enough, it seems as though removing stop words actually worsened model performance. This is not very common but could be due to the fact that we are only using individual words at the moment. In future iterations we can extend our model to use n-grams so as to preserve more context between connected words.\n",
    "\n",
    "Next, I will investigate the impact of stemming words on model performance."
   ]
  },
  {
   "cell_type": "code",
   "execution_count": 100,
   "metadata": {},
   "outputs": [],
   "source": [
    "from nltk.stem.snowball import SnowballStemmer\n",
    "stemmer = SnowballStemmer(language=\"english\")\n",
    "\n",
    "def stem_and_tokenize(document):\n",
    "    tokens = tokenizer.tokenize(document)\n",
    "    return [stemmer.stem(token) for token in tokens]"
   ]
  },
  {
   "cell_type": "code",
   "execution_count": 101,
   "metadata": {},
   "outputs": [],
   "source": [
    "stemmed_stopwords = [stemmer.stem(word) for word in stopwords_list]"
   ]
  },
  {
   "cell_type": "code",
   "execution_count": 102,
   "metadata": {},
   "outputs": [
    {
     "data": {
      "text/html": [
       "<div>\n",
       "<style scoped>\n",
       "    .dataframe tbody tr th:only-of-type {\n",
       "        vertical-align: middle;\n",
       "    }\n",
       "\n",
       "    .dataframe tbody tr th {\n",
       "        vertical-align: top;\n",
       "    }\n",
       "\n",
       "    .dataframe thead th {\n",
       "        text-align: right;\n",
       "    }\n",
       "</style>\n",
       "<table border=\"1\" class=\"dataframe\">\n",
       "  <thead>\n",
       "    <tr style=\"text-align: right;\">\n",
       "      <th></th>\n",
       "      <th>amp</th>\n",
       "      <th>android</th>\n",
       "      <th>app</th>\n",
       "      <th>appl</th>\n",
       "      <th>austin</th>\n",
       "      <th>get</th>\n",
       "      <th>go</th>\n",
       "      <th>googl</th>\n",
       "      <th>ipad</th>\n",
       "      <th>ipad2</th>\n",
       "      <th>iphon</th>\n",
       "      <th>launch</th>\n",
       "      <th>link</th>\n",
       "      <th>mention</th>\n",
       "      <th>new</th>\n",
       "      <th>pop</th>\n",
       "      <th>quot</th>\n",
       "      <th>rt</th>\n",
       "      <th>store</th>\n",
       "      <th>sxsw</th>\n",
       "    </tr>\n",
       "  </thead>\n",
       "  <tbody>\n",
       "    <tr>\n",
       "      <th>0</th>\n",
       "      <td>0.000000</td>\n",
       "      <td>0.000000</td>\n",
       "      <td>0.000000</td>\n",
       "      <td>0.000000</td>\n",
       "      <td>0.000000</td>\n",
       "      <td>0.0</td>\n",
       "      <td>0.0</td>\n",
       "      <td>0.928578</td>\n",
       "      <td>0.000000</td>\n",
       "      <td>0.0</td>\n",
       "      <td>0.000000</td>\n",
       "      <td>0.000000</td>\n",
       "      <td>0.000000</td>\n",
       "      <td>0.000000</td>\n",
       "      <td>0.0</td>\n",
       "      <td>0.0000</td>\n",
       "      <td>0.000000</td>\n",
       "      <td>0.000000</td>\n",
       "      <td>0.000000</td>\n",
       "      <td>0.371136</td>\n",
       "    </tr>\n",
       "    <tr>\n",
       "      <th>1</th>\n",
       "      <td>0.000000</td>\n",
       "      <td>0.000000</td>\n",
       "      <td>0.000000</td>\n",
       "      <td>0.000000</td>\n",
       "      <td>0.000000</td>\n",
       "      <td>0.0</td>\n",
       "      <td>0.0</td>\n",
       "      <td>0.000000</td>\n",
       "      <td>0.683206</td>\n",
       "      <td>0.0</td>\n",
       "      <td>0.000000</td>\n",
       "      <td>0.000000</td>\n",
       "      <td>0.653892</td>\n",
       "      <td>0.000000</td>\n",
       "      <td>0.0</td>\n",
       "      <td>0.0000</td>\n",
       "      <td>0.000000</td>\n",
       "      <td>0.000000</td>\n",
       "      <td>0.000000</td>\n",
       "      <td>0.325045</td>\n",
       "    </tr>\n",
       "    <tr>\n",
       "      <th>2</th>\n",
       "      <td>0.000000</td>\n",
       "      <td>0.000000</td>\n",
       "      <td>0.776409</td>\n",
       "      <td>0.000000</td>\n",
       "      <td>0.000000</td>\n",
       "      <td>0.0</td>\n",
       "      <td>0.0</td>\n",
       "      <td>0.000000</td>\n",
       "      <td>0.569103</td>\n",
       "      <td>0.0</td>\n",
       "      <td>0.000000</td>\n",
       "      <td>0.000000</td>\n",
       "      <td>0.000000</td>\n",
       "      <td>0.000000</td>\n",
       "      <td>0.0</td>\n",
       "      <td>0.0000</td>\n",
       "      <td>0.000000</td>\n",
       "      <td>0.000000</td>\n",
       "      <td>0.000000</td>\n",
       "      <td>0.270759</td>\n",
       "    </tr>\n",
       "    <tr>\n",
       "      <th>3</th>\n",
       "      <td>0.000000</td>\n",
       "      <td>0.000000</td>\n",
       "      <td>0.858096</td>\n",
       "      <td>0.000000</td>\n",
       "      <td>0.000000</td>\n",
       "      <td>0.0</td>\n",
       "      <td>0.0</td>\n",
       "      <td>0.000000</td>\n",
       "      <td>0.000000</td>\n",
       "      <td>0.0</td>\n",
       "      <td>0.388182</td>\n",
       "      <td>0.000000</td>\n",
       "      <td>0.300996</td>\n",
       "      <td>0.000000</td>\n",
       "      <td>0.0</td>\n",
       "      <td>0.0000</td>\n",
       "      <td>0.000000</td>\n",
       "      <td>0.000000</td>\n",
       "      <td>0.000000</td>\n",
       "      <td>0.149623</td>\n",
       "    </tr>\n",
       "    <tr>\n",
       "      <th>4</th>\n",
       "      <td>0.461644</td>\n",
       "      <td>0.000000</td>\n",
       "      <td>0.000000</td>\n",
       "      <td>0.281564</td>\n",
       "      <td>0.424722</td>\n",
       "      <td>0.0</td>\n",
       "      <td>0.0</td>\n",
       "      <td>0.000000</td>\n",
       "      <td>0.259849</td>\n",
       "      <td>0.0</td>\n",
       "      <td>0.000000</td>\n",
       "      <td>0.469882</td>\n",
       "      <td>0.248700</td>\n",
       "      <td>0.206489</td>\n",
       "      <td>0.0</td>\n",
       "      <td>0.0000</td>\n",
       "      <td>0.000000</td>\n",
       "      <td>0.000000</td>\n",
       "      <td>0.345158</td>\n",
       "      <td>0.123627</td>\n",
       "    </tr>\n",
       "    <tr>\n",
       "      <th>...</th>\n",
       "      <td>...</td>\n",
       "      <td>...</td>\n",
       "      <td>...</td>\n",
       "      <td>...</td>\n",
       "      <td>...</td>\n",
       "      <td>...</td>\n",
       "      <td>...</td>\n",
       "      <td>...</td>\n",
       "      <td>...</td>\n",
       "      <td>...</td>\n",
       "      <td>...</td>\n",
       "      <td>...</td>\n",
       "      <td>...</td>\n",
       "      <td>...</td>\n",
       "      <td>...</td>\n",
       "      <td>...</td>\n",
       "      <td>...</td>\n",
       "      <td>...</td>\n",
       "      <td>...</td>\n",
       "      <td>...</td>\n",
       "    </tr>\n",
       "    <tr>\n",
       "      <th>2388</th>\n",
       "      <td>0.530166</td>\n",
       "      <td>0.000000</td>\n",
       "      <td>0.000000</td>\n",
       "      <td>0.323356</td>\n",
       "      <td>0.000000</td>\n",
       "      <td>0.0</td>\n",
       "      <td>0.0</td>\n",
       "      <td>0.000000</td>\n",
       "      <td>0.000000</td>\n",
       "      <td>0.0</td>\n",
       "      <td>0.000000</td>\n",
       "      <td>0.000000</td>\n",
       "      <td>0.000000</td>\n",
       "      <td>0.237139</td>\n",
       "      <td>0.0</td>\n",
       "      <td>0.5239</td>\n",
       "      <td>0.000000</td>\n",
       "      <td>0.326153</td>\n",
       "      <td>0.396390</td>\n",
       "      <td>0.141977</td>\n",
       "    </tr>\n",
       "    <tr>\n",
       "      <th>2389</th>\n",
       "      <td>0.000000</td>\n",
       "      <td>0.000000</td>\n",
       "      <td>0.000000</td>\n",
       "      <td>0.000000</td>\n",
       "      <td>0.000000</td>\n",
       "      <td>0.0</td>\n",
       "      <td>0.0</td>\n",
       "      <td>0.000000</td>\n",
       "      <td>0.903010</td>\n",
       "      <td>0.0</td>\n",
       "      <td>0.000000</td>\n",
       "      <td>0.000000</td>\n",
       "      <td>0.000000</td>\n",
       "      <td>0.000000</td>\n",
       "      <td>0.0</td>\n",
       "      <td>0.0000</td>\n",
       "      <td>0.000000</td>\n",
       "      <td>0.000000</td>\n",
       "      <td>0.000000</td>\n",
       "      <td>0.429620</td>\n",
       "    </tr>\n",
       "    <tr>\n",
       "      <th>2390</th>\n",
       "      <td>0.000000</td>\n",
       "      <td>0.858463</td>\n",
       "      <td>0.000000</td>\n",
       "      <td>0.000000</td>\n",
       "      <td>0.000000</td>\n",
       "      <td>0.0</td>\n",
       "      <td>0.0</td>\n",
       "      <td>0.000000</td>\n",
       "      <td>0.000000</td>\n",
       "      <td>0.0</td>\n",
       "      <td>0.000000</td>\n",
       "      <td>0.000000</td>\n",
       "      <td>0.459263</td>\n",
       "      <td>0.000000</td>\n",
       "      <td>0.0</td>\n",
       "      <td>0.0000</td>\n",
       "      <td>0.000000</td>\n",
       "      <td>0.000000</td>\n",
       "      <td>0.000000</td>\n",
       "      <td>0.228296</td>\n",
       "    </tr>\n",
       "    <tr>\n",
       "      <th>2391</th>\n",
       "      <td>0.000000</td>\n",
       "      <td>0.000000</td>\n",
       "      <td>0.000000</td>\n",
       "      <td>0.163847</td>\n",
       "      <td>0.000000</td>\n",
       "      <td>0.0</td>\n",
       "      <td>0.0</td>\n",
       "      <td>0.000000</td>\n",
       "      <td>0.000000</td>\n",
       "      <td>0.0</td>\n",
       "      <td>0.000000</td>\n",
       "      <td>0.000000</td>\n",
       "      <td>0.000000</td>\n",
       "      <td>0.120160</td>\n",
       "      <td>0.0</td>\n",
       "      <td>0.0000</td>\n",
       "      <td>0.976494</td>\n",
       "      <td>0.000000</td>\n",
       "      <td>0.000000</td>\n",
       "      <td>0.071941</td>\n",
       "    </tr>\n",
       "    <tr>\n",
       "      <th>2392</th>\n",
       "      <td>0.000000</td>\n",
       "      <td>0.000000</td>\n",
       "      <td>0.000000</td>\n",
       "      <td>0.000000</td>\n",
       "      <td>0.000000</td>\n",
       "      <td>0.0</td>\n",
       "      <td>0.0</td>\n",
       "      <td>0.000000</td>\n",
       "      <td>0.733665</td>\n",
       "      <td>0.0</td>\n",
       "      <td>0.000000</td>\n",
       "      <td>0.000000</td>\n",
       "      <td>0.000000</td>\n",
       "      <td>0.583008</td>\n",
       "      <td>0.0</td>\n",
       "      <td>0.0000</td>\n",
       "      <td>0.000000</td>\n",
       "      <td>0.000000</td>\n",
       "      <td>0.000000</td>\n",
       "      <td>0.349052</td>\n",
       "    </tr>\n",
       "  </tbody>\n",
       "</table>\n",
       "<p>2393 rows × 20 columns</p>\n",
       "</div>"
      ],
      "text/plain": [
       "           amp   android       app      appl    austin  get   go     googl  \\\n",
       "0     0.000000  0.000000  0.000000  0.000000  0.000000  0.0  0.0  0.928578   \n",
       "1     0.000000  0.000000  0.000000  0.000000  0.000000  0.0  0.0  0.000000   \n",
       "2     0.000000  0.000000  0.776409  0.000000  0.000000  0.0  0.0  0.000000   \n",
       "3     0.000000  0.000000  0.858096  0.000000  0.000000  0.0  0.0  0.000000   \n",
       "4     0.461644  0.000000  0.000000  0.281564  0.424722  0.0  0.0  0.000000   \n",
       "...        ...       ...       ...       ...       ...  ...  ...       ...   \n",
       "2388  0.530166  0.000000  0.000000  0.323356  0.000000  0.0  0.0  0.000000   \n",
       "2389  0.000000  0.000000  0.000000  0.000000  0.000000  0.0  0.0  0.000000   \n",
       "2390  0.000000  0.858463  0.000000  0.000000  0.000000  0.0  0.0  0.000000   \n",
       "2391  0.000000  0.000000  0.000000  0.163847  0.000000  0.0  0.0  0.000000   \n",
       "2392  0.000000  0.000000  0.000000  0.000000  0.000000  0.0  0.0  0.000000   \n",
       "\n",
       "          ipad  ipad2     iphon    launch      link   mention  new     pop  \\\n",
       "0     0.000000    0.0  0.000000  0.000000  0.000000  0.000000  0.0  0.0000   \n",
       "1     0.683206    0.0  0.000000  0.000000  0.653892  0.000000  0.0  0.0000   \n",
       "2     0.569103    0.0  0.000000  0.000000  0.000000  0.000000  0.0  0.0000   \n",
       "3     0.000000    0.0  0.388182  0.000000  0.300996  0.000000  0.0  0.0000   \n",
       "4     0.259849    0.0  0.000000  0.469882  0.248700  0.206489  0.0  0.0000   \n",
       "...        ...    ...       ...       ...       ...       ...  ...     ...   \n",
       "2388  0.000000    0.0  0.000000  0.000000  0.000000  0.237139  0.0  0.5239   \n",
       "2389  0.903010    0.0  0.000000  0.000000  0.000000  0.000000  0.0  0.0000   \n",
       "2390  0.000000    0.0  0.000000  0.000000  0.459263  0.000000  0.0  0.0000   \n",
       "2391  0.000000    0.0  0.000000  0.000000  0.000000  0.120160  0.0  0.0000   \n",
       "2392  0.733665    0.0  0.000000  0.000000  0.000000  0.583008  0.0  0.0000   \n",
       "\n",
       "          quot        rt     store      sxsw  \n",
       "0     0.000000  0.000000  0.000000  0.371136  \n",
       "1     0.000000  0.000000  0.000000  0.325045  \n",
       "2     0.000000  0.000000  0.000000  0.270759  \n",
       "3     0.000000  0.000000  0.000000  0.149623  \n",
       "4     0.000000  0.000000  0.345158  0.123627  \n",
       "...        ...       ...       ...       ...  \n",
       "2388  0.000000  0.326153  0.396390  0.141977  \n",
       "2389  0.000000  0.000000  0.000000  0.429620  \n",
       "2390  0.000000  0.000000  0.000000  0.228296  \n",
       "2391  0.976494  0.000000  0.000000  0.071941  \n",
       "2392  0.000000  0.000000  0.000000  0.349052  \n",
       "\n",
       "[2393 rows x 20 columns]"
      ]
     },
     "execution_count": 102,
     "metadata": {},
     "output_type": "execute_result"
    }
   ],
   "source": [
    "# Instantiate the vectorizer\n",
    "tfidf_v3 = TfidfVectorizer(max_features=20, stop_words=stemmed_stopwords, tokenizer=stem_and_tokenize)\n",
    "\n",
    "# Fit the vectorizer on X_train[\"text\"] and transform it\n",
    "X_train_vectorized_v3 = tfidf_v3.fit_transform(X_train[\"tweet_text\"])\n",
    "\n",
    "# Visually inspect the vectorized data\n",
    "pd.DataFrame.sparse.from_spmatrix(X_train_vectorized_v3, columns=tfidf_v3.get_feature_names())"
   ]
  },
  {
   "cell_type": "code",
   "execution_count": 103,
   "metadata": {},
   "outputs": [
    {
     "data": {
      "text/plain": [
       "array([0.81628392, 0.82045929, 0.8308977 , 0.83682008, 0.84518828])"
      ]
     },
     "execution_count": 103,
     "metadata": {},
     "output_type": "execute_result"
    }
   ],
   "source": [
    "baseline_model_v3 = RandomForestClassifier()\n",
    "\n",
    "stemmed_cv = cross_val_score(baseline_model_v3, X_train_vectorized_v3, y_train)\n",
    "stemmed_cv"
   ]
  },
  {
   "cell_type": "code",
   "execution_count": 104,
   "metadata": {},
   "outputs": [
    {
     "name": "stdout",
     "output_type": "stream",
     "text": [
      "Stopwords removed: 0.8236589477729929\n",
      "Stemmed:           0.8299298573562425\n"
     ]
    }
   ],
   "source": [
    "# Run this cell without changes\n",
    "print(\"Stopwords removed:\", stopwords_removed_cv.mean())\n",
    "print(\"Stemmed:          \", stemmed_cv.mean())"
   ]
  },
  {
   "cell_type": "markdown",
   "metadata": {},
   "source": [
    "Compared to our model with stopwords removed only, this model with both stopwords removed and stemming performed marginally better. However, our baseline model still showed the best performance on average. Before further iterating, let's take a closer look at our model's predictions to see on which cases it performed well, and which cases it performed poorly."
   ]
  },
  {
   "cell_type": "code",
   "execution_count": 105,
   "metadata": {},
   "outputs": [],
   "source": [
    "from sklearn.metrics import confusion_matrix, mean_squared_error, classification_report\n",
    "from sklearn.metrics import accuracy_score, confusion_matrix, ConfusionMatrixDisplay, classification_report, accuracy_score, roc_curve, auc, roc_auc_score, balanced_accuracy_score\n",
    "\n",
    "baseline_model_v3.fit(X_train_vectorized_v3, y_train)\n",
    "\n",
    "# Fit the vectorizer on X_train[\"text\"] and transform it\n",
    "X_test_vectorized_v3 = tfidf_v3.fit_transform(X_test[\"tweet_text\"])\n",
    "\n",
    "# Visually inspect the vectorized data\n",
    "pd.DataFrame.sparse.from_spmatrix(X_train_vectorized_v3, columns=tfidf_v3.get_feature_names())\n",
    "\n",
    "y_hat = baseline_model_v3.predict(X_test_vectorized_v3)"
   ]
  },
  {
   "cell_type": "code",
   "execution_count": 106,
   "metadata": {},
   "outputs": [
    {
     "data": {
      "image/png": "[encoded data removed]",
      "text/plain": [
       "<Figure size 432x288 with 2 Axes>"
      ]
     },
     "metadata": {
      "needs_background": "light"
     },
     "output_type": "display_data"
    }
   ],
   "source": [
    "cm = confusion_matrix(y_test, y_hat, labels = baseline_model_v3.classes_)\n",
    "disp = ConfusionMatrixDisplay(confusion_matrix=cm,\n",
    "                              display_labels=baseline_model_v3.classes_)\n",
    "disp.plot()\n",
    "plt.show()"
   ]
  },
  {
   "cell_type": "markdown",
   "metadata": {},
   "source": [
    "It looks like the model is not learing and predicting negative sentiment cases well. This is likely due to the class imbalance we mentioned earlier. We can confirm or deny this by addressing the class imbalance with random over sampling."
   ]
  },
  {
   "cell_type": "code",
   "execution_count": 107,
   "metadata": {},
   "outputs": [],
   "source": [
    "from imblearn.over_sampling import RandomOverSampler"
   ]
  },
  {
   "cell_type": "code",
   "execution_count": 108,
   "metadata": {},
   "outputs": [],
   "source": [
    "X_train, X_test, y_train, y_test = train_test_split(binary_df_nonulls['tweet_text'], binary_df_nonulls['is_there_an_emotion_directed_at_a_brand_or_product'].values, test_size=0.25)"
   ]
  },
  {
   "cell_type": "code",
   "execution_count": 109,
   "metadata": {},
   "outputs": [],
   "source": [
    "from collections import Counter"
   ]
  },
  {
   "cell_type": "code",
   "execution_count": 110,
   "metadata": {},
   "outputs": [
    {
     "data": {
      "text/plain": [
       "Counter({1: 2002, 0: 391})"
      ]
     },
     "execution_count": 110,
     "metadata": {},
     "output_type": "execute_result"
    }
   ],
   "source": [
    "Counter(y_train)"
   ]
  },
  {
   "cell_type": "code",
   "execution_count": 111,
   "metadata": {},
   "outputs": [
    {
     "data": {
      "text/plain": [
       "TfidfVectorizer(stop_words=['i', 'me', 'my', 'myself', 'we', 'our', 'our',\n",
       "                            'ourselv', 'you', \"you'r\", \"you'v\", \"you'll\",\n",
       "                            \"you'd\", 'your', 'your', 'yourself', 'yourselv',\n",
       "                            'he', 'him', 'his', 'himself', 'she', 'she', 'her',\n",
       "                            'her', 'herself', 'it', 'it', 'it', 'itself', ...])"
      ]
     },
     "execution_count": 111,
     "metadata": {},
     "output_type": "execute_result"
    }
   ],
   "source": [
    "vectorizer = TfidfVectorizer(stop_words=stemmed_stopwords)\n",
    "vectorizer.fit(X_train)"
   ]
  },
  {
   "cell_type": "code",
   "execution_count": 112,
   "metadata": {},
   "outputs": [],
   "source": [
    "X_train_tf = vectorizer.transform(X_train)"
   ]
  },
  {
   "cell_type": "code",
   "execution_count": 113,
   "metadata": {},
   "outputs": [],
   "source": [
    "X_train_tf = X_train_tf.toarray()"
   ]
  },
  {
   "cell_type": "code",
   "execution_count": 114,
   "metadata": {},
   "outputs": [],
   "source": [
    "X_test_tf = vectorizer.transform(X_test)\n",
    "X_test_tf = X_test_tf.toarray()"
   ]
  },
  {
   "cell_type": "code",
   "execution_count": 115,
   "metadata": {},
   "outputs": [],
   "source": [
    "ROS = RandomOverSampler(sampling_strategy=1)\n",
    "X_train_ros, y_train_ros = ROS.fit_resample(X_train_tf, y_train)"
   ]
  },
  {
   "cell_type": "code",
   "execution_count": 116,
   "metadata": {},
   "outputs": [
    {
     "data": {
      "text/plain": [
       "Counter({1: 2002, 0: 2002})"
      ]
     },
     "execution_count": 116,
     "metadata": {},
     "output_type": "execute_result"
    }
   ],
   "source": [
    "Counter(y_train_ros)"
   ]
  },
  {
   "cell_type": "markdown",
   "metadata": {},
   "source": [
    "We can see now that the training dataset's classes are equally balanced. Next I will fit a Gaussian Naive Bayes model to see how Random Over Sampling has impacted performance. The reason I am using Gaussian Naive Bayes is because it is much less computationally expensive to use on our now artificially increased dataset."
   ]
  },
  {
   "cell_type": "code",
   "execution_count": 117,
   "metadata": {},
   "outputs": [
    {
     "name": "stdout",
     "output_type": "stream",
     "text": [
      "0.7531328320802005\n"
     ]
    }
   ],
   "source": [
    "from sklearn.naive_bayes import GaussianNB\n",
    "\n",
    "nb = GaussianNB()\n",
    "nb.fit(X_train_ros, y_train_ros)\n",
    "y_preds = nb.predict(X_test_tf)\n",
    "\n",
    "print(accuracy_score(y_test, y_preds))"
   ]
  },
  {
   "cell_type": "code",
   "execution_count": 118,
   "metadata": {},
   "outputs": [
    {
     "data": {
      "image/png": "[encoded data removed]",
      "text/plain": [
       "<Figure size 432x288 with 2 Axes>"
      ]
     },
     "metadata": {
      "needs_background": "light"
     },
     "output_type": "display_data"
    }
   ],
   "source": [
    "cm = confusion_matrix(y_test, y_preds, labels = nb.classes_)\n",
    "disp = ConfusionMatrixDisplay(confusion_matrix=cm,\n",
    "                              display_labels=nb.classes_)\n",
    "disp.plot()\n",
    "plt.show()"
   ]
  },
  {
   "cell_type": "markdown",
   "metadata": {},
   "source": [
    "We can see from the confusion matrix above that Random Over Sampling has led our model to make more Negative classifications. On the one hand this has increased the number of truly Positive cases being classified as Negative. On the other hand this has increased the number of truly Negative cases being correctly classified as Negative.\n",
    "\n",
    "Next I will investigate how incorporating Bigrams impacts model performance."
   ]
  },
  {
   "cell_type": "markdown",
   "metadata": {},
   "source": [
    "## Creating Bigrams"
   ]
  },
  {
   "cell_type": "markdown",
   "metadata": {},
   "source": [
    "I will follow all of the same steps that I did previously to fit a new model. The only difference is that I will indicate in my tfidfVectorizer an ngram range of 1-2 which essentially has the model consider both words individually, as well as bigrams (words with their most closely associated next word)."
   ]
  },
  {
   "cell_type": "code",
   "execution_count": 119,
   "metadata": {},
   "outputs": [
    {
     "name": "stdout",
     "output_type": "stream",
     "text": [
      "0.843358395989975\n"
     ]
    },
    {
     "data": {
      "image/png": "[encoded data removed]",
      "text/plain": [
       "<Figure size 432x288 with 2 Axes>"
      ]
     },
     "metadata": {
      "needs_background": "light"
     },
     "output_type": "display_data"
    }
   ],
   "source": [
    "vectorizer = TfidfVectorizer(stop_words=stemmed_stopwords, ngram_range = (1,2))\n",
    "X_train = X_train.str.lower()\n",
    "vectorizer.fit(X_train)\n",
    "X_train_tf = vectorizer.transform(X_train)\n",
    "X_train_tf = X_train_tf.toarray()\n",
    "X_test_tf = vectorizer.transform(X_test)\n",
    "X_test_tf = X_test_tf.toarray()\n",
    "ROS = RandomOverSampler(sampling_strategy=1)\n",
    "X_train_ros, y_train_ros = ROS.fit_resample(X_train_tf, y_train)\n",
    "\n",
    "from sklearn.naive_bayes import GaussianNB\n",
    "\n",
    "nb = GaussianNB()\n",
    "nb.fit(X_train_ros, y_train_ros)\n",
    "y_preds = nb.predict(X_test_tf)\n",
    "\n",
    "print(accuracy_score(y_test, y_preds))\n",
    "\n",
    "cm = confusion_matrix(y_test, y_preds, labels = nb.classes_)\n",
    "disp = ConfusionMatrixDisplay(confusion_matrix=cm,\n",
    "                              display_labels=nb.classes_)\n",
    "disp.plot()\n",
    "plt.show()"
   ]
  },
  {
   "cell_type": "markdown",
   "metadata": {},
   "source": [
    "As we can see, incorporating Bigrams improved model performance significantly on the test dataset (almost 10%). This is a good accuracy score. Let's next see how we can extend our model's classification abilities by incorporating neutral sentiment and brand distinction."
   ]
  },
  {
   "cell_type": "markdown",
   "metadata": {},
   "source": [
    "## Incorporate Neutral Sentiment"
   ]
  },
  {
   "cell_type": "markdown",
   "metadata": {},
   "source": [
    "In an effort to make this model a bit more sophistocated, I will extend it from binary classification to multi-class. I will include tweets with neutral sentiment and give the model an opportunity to learn this new class."
   ]
  },
  {
   "cell_type": "code",
   "execution_count": 120,
   "metadata": {},
   "outputs": [
    {
     "data": {
      "text/plain": [
       "1    2672\n",
       "0     519\n",
       "2      91\n",
       "Name: is_there_an_emotion_directed_at_a_brand_or_product, dtype: int64"
      ]
     },
     "execution_count": 120,
     "metadata": {},
     "output_type": "execute_result"
    }
   ],
   "source": [
    "df['is_there_an_emotion_directed_at_a_brand_or_product'].value_counts()\n",
    "df_neutral = df[df['is_there_an_emotion_directed_at_a_brand_or_product'] != \"I can't tell\"]\n",
    "\n",
    "df_neutral_nonulls = df_neutral.dropna()\n",
    "df_neutral_nonulls = df_neutral_nonulls.drop(columns = 'emotion_in_tweet_is_directed_at')\n",
    "df_neutral_nonulls['is_there_an_emotion_directed_at_a_brand_or_product'] = df_neutral_nonulls['is_there_an_emotion_directed_at_a_brand_or_product'].apply(lambda x: 0 if x == 'Negative emotion' else 1 if x == 'Positive emotion' else 2)\n",
    "df_neutral_nonulls['is_there_an_emotion_directed_at_a_brand_or_product'].value_counts()"
   ]
  },
  {
   "cell_type": "markdown",
   "metadata": {},
   "source": [
    "Now that our multi-class dataframe is ready, I will follow the same pre-processing steps that I did for previous iterations of the model."
   ]
  },
  {
   "cell_type": "code",
   "execution_count": 121,
   "metadata": {},
   "outputs": [],
   "source": [
    "X_train, X_test, y_train, y_test = train_test_split(df_neutral_nonulls['tweet_text'], df_neutral_nonulls['is_there_an_emotion_directed_at_a_brand_or_product'].values, test_size=0.25)"
   ]
  },
  {
   "cell_type": "code",
   "execution_count": 122,
   "metadata": {},
   "outputs": [],
   "source": [
    "def process(X_train, X_test, y_train, y_test):\n",
    "    vectorizer = TfidfVectorizer(stop_words=stemmed_stopwords, ngram_range = (1,2))\n",
    "    vectorizer.fit(X_train)\n",
    "    X_train_tf = vectorizer.transform(X_train)\n",
    "    X_train_tf = X_train_tf.toarray()\n",
    "    X_test_tf = vectorizer.transform(X_test)\n",
    "    X_test_tf = X_test_tf.toarray()\n",
    "    ROS = RandomOverSampler(sampling_strategy = 'auto')\n",
    "    X_train_ros, y_train_ros = ROS.fit_resample(X_train_tf, y_train)\n",
    "    \n",
    "    nb = GaussianNB()\n",
    "    nb.fit(X_train_ros, y_train_ros)\n",
    "    y_preds = nb.predict(X_test_tf)\n",
    "\n",
    "    print(accuracy_score(y_test, y_preds))\n",
    "\n",
    "    cm = confusion_matrix(y_test, y_preds, labels = nb.classes_)\n",
    "    disp = ConfusionMatrixDisplay(confusion_matrix=cm,\n",
    "                              display_labels=nb.classes_)\n",
    "    disp.plot()\n",
    "    plt.show()"
   ]
  },
  {
   "cell_type": "code",
   "execution_count": 123,
   "metadata": {},
   "outputs": [
    {
     "name": "stdout",
     "output_type": "stream",
     "text": [
      "0.833130328867235\n"
     ]
    },
    {
     "data": {
      "image/png": "[encoded data removed]",
      "text/plain": [
       "<Figure size 432x288 with 2 Axes>"
      ]
     },
     "metadata": {
      "needs_background": "light"
     },
     "output_type": "display_data"
    },
    {
     "name": "stdout",
     "output_type": "stream",
     "text": [
      "0: Negative Emotion\n",
      "1: Positive Emotion\n",
      "2: Neutral Emotion\n"
     ]
    }
   ],
   "source": [
    "process(X_train, X_test, y_train, y_test)\n",
    "print('0: Negative Emotion')\n",
    "print('1: Positive Emotion')\n",
    "print('2: Neutral Emotion')"
   ]
  },
  {
   "cell_type": "markdown",
   "metadata": {},
   "source": [
    "An accuracy score of 85% is very promising. However, this is a bit misleading in that the model performed very poorly on the \"Neutral Emotion\" class, and also relatively poorly on the \"Negative Emotion\" class. This could be due to multiple reasons. Firstly, the class balance was heavily skewed towards the \"Positive Emotion\" class. I had to use oversampling to create synthetic datapoints for the other classes to match the \"Negative Emotion\" class in volume. Secondly, this could imply that positive words are more distinguishing than negative and neutral words in this dataset."
   ]
  },
  {
   "cell_type": "markdown",
   "metadata": {},
   "source": [
    "## Incorporate Product Specific Sentiment (Google vs. Apple)"
   ]
  },
  {
   "cell_type": "markdown",
   "metadata": {},
   "source": [
    "I would like to improve model performance on minority classes, but first I am interested to see how further complicating our model affects performance. I will extend multi-class categories even further to include brand-specific classification. Knowing that the actual brand names are mentioned heavily in the tweets, I am interested to see how well our model can distinguish between both brands and sentiment."
   ]
  },
  {
   "cell_type": "code",
   "execution_count": 57,
   "metadata": {},
   "outputs": [
    {
     "data": {
      "text/plain": [
       "iPad                               946\n",
       "Apple                              661\n",
       "iPad or iPhone App                 470\n",
       "Google                             430\n",
       "iPhone                             297\n",
       "Other Google product or service    293\n",
       "Android App                         81\n",
       "Android                             78\n",
       "Other Apple product or service      35\n",
       "Name: emotion_in_tweet_is_directed_at, dtype: int64"
      ]
     },
     "execution_count": 57,
     "metadata": {},
     "output_type": "execute_result"
    }
   ],
   "source": [
    "df['emotion_in_tweet_is_directed_at'].value_counts()"
   ]
  },
  {
   "cell_type": "markdown",
   "metadata": {},
   "source": [
    "First I will need to make \"emotion_in_tweet_is_directed_at\" binary (either Google or Apple)."
   ]
  },
  {
   "cell_type": "code",
   "execution_count": 65,
   "metadata": {},
   "outputs": [
    {
     "data": {
      "text/plain": [
       "Apple     2402\n",
       "Google     880\n",
       "Name: emotion_in_tweet_is_directed_at, dtype: int64"
      ]
     },
     "execution_count": 65,
     "metadata": {},
     "output_type": "execute_result"
    }
   ],
   "source": [
    "df_brand_multiclass = df.dropna()\n",
    "df_brand_multiclass = df_brand_multiclass[df_brand_multiclass['is_there_an_emotion_directed_at_a_brand_or_product'] != \"I can't tell\"]\n",
    "df_brand_multiclass['emotion_in_tweet_is_directed_at'] = df_brand_multiclass['emotion_in_tweet_is_directed_at'].apply(\n",
    "lambda x: 'Apple' \n",
    "if 'iP' in x or 'Apple' in x\n",
    "else 'Google' if 'Google' in x or 'Android' in x\n",
    "else 'N/A')\n",
    "\n",
    "df_brand_multiclass['emotion_in_tweet_is_directed_at'].value_counts()"
   ]
  },
  {
   "cell_type": "markdown",
   "metadata": {},
   "source": [
    "Next I will define a function that generates the new classifications using information from both columns. This function will use the newly-defined binary brand distinction in conjunction with multi-class sentiment (Positive, Negative, Neutral)."
   ]
  },
  {
   "cell_type": "code",
   "execution_count": 59,
   "metadata": {},
   "outputs": [],
   "source": [
    "def conditions(df):\n",
    "    if (df['emotion_in_tweet_is_directed_at'] == 'Apple') and (df['is_there_an_emotion_directed_at_a_brand_or_product'] == 'Positive emotion'):\n",
    "        return 'Apple Positive'\n",
    "    elif (df['emotion_in_tweet_is_directed_at'] == 'Apple') and (df['is_there_an_emotion_directed_at_a_brand_or_product'] == 'Negative emotion'):\n",
    "        return 'Apple Negative'\n",
    "    elif (df['emotion_in_tweet_is_directed_at'] == 'Google') and (df['is_there_an_emotion_directed_at_a_brand_or_product'] == 'Positive emotion'):\n",
    "        return 'Google Positive'\n",
    "    elif (df['emotion_in_tweet_is_directed_at'] == 'Google') and (df['is_there_an_emotion_directed_at_a_brand_or_product'] == 'Negative emotion'):\n",
    "        return 'Google Negative'\n",
    "    elif (df['emotion_in_tweet_is_directed_at'] == 'Apple') and (df['is_there_an_emotion_directed_at_a_brand_or_product'] == 'No emotion toward brand or product'):\n",
    "        return 'Apple Neutral'\n",
    "    elif (df['emotion_in_tweet_is_directed_at'] == 'Google') and (df['is_there_an_emotion_directed_at_a_brand_or_product'] == 'No emotion toward brand or product'):\n",
    "        return 'Google Neutral'\n",
    "    else:\n",
    "        return 'NA'"
   ]
  },
  {
   "cell_type": "code",
   "execution_count": 60,
   "metadata": {},
   "outputs": [
    {
     "data": {
      "text/html": [
       "<div>\n",
       "<style scoped>\n",
       "    .dataframe tbody tr th:only-of-type {\n",
       "        vertical-align: middle;\n",
       "    }\n",
       "\n",
       "    .dataframe tbody tr th {\n",
       "        vertical-align: top;\n",
       "    }\n",
       "\n",
       "    .dataframe thead th {\n",
       "        text-align: right;\n",
       "    }\n",
       "</style>\n",
       "<table border=\"1\" class=\"dataframe\">\n",
       "  <thead>\n",
       "    <tr style=\"text-align: right;\">\n",
       "      <th></th>\n",
       "      <th>tweet_text</th>\n",
       "      <th>emotion_in_tweet_is_directed_at</th>\n",
       "      <th>is_there_an_emotion_directed_at_a_brand_or_product</th>\n",
       "    </tr>\n",
       "  </thead>\n",
       "  <tbody>\n",
       "    <tr>\n",
       "      <th>0</th>\n",
       "      <td>.@wesley83 I have a 3G iPhone. After 3 hrs twe...</td>\n",
       "      <td>Apple</td>\n",
       "      <td>Apple Negative</td>\n",
       "    </tr>\n",
       "    <tr>\n",
       "      <th>1</th>\n",
       "      <td>@jessedee Know about @fludapp ? Awesome iPad/i...</td>\n",
       "      <td>Apple</td>\n",
       "      <td>Apple Positive</td>\n",
       "    </tr>\n",
       "    <tr>\n",
       "      <th>2</th>\n",
       "      <td>@swonderlin Can not wait for #iPad 2 also. The...</td>\n",
       "      <td>Apple</td>\n",
       "      <td>Apple Positive</td>\n",
       "    </tr>\n",
       "    <tr>\n",
       "      <th>3</th>\n",
       "      <td>@sxsw I hope this year's festival isn't as cra...</td>\n",
       "      <td>Apple</td>\n",
       "      <td>Apple Negative</td>\n",
       "    </tr>\n",
       "    <tr>\n",
       "      <th>4</th>\n",
       "      <td>@sxtxstate great stuff on Fri #SXSW: Marissa M...</td>\n",
       "      <td>Google</td>\n",
       "      <td>Google Positive</td>\n",
       "    </tr>\n",
       "    <tr>\n",
       "      <th>...</th>\n",
       "      <td>...</td>\n",
       "      <td>...</td>\n",
       "      <td>...</td>\n",
       "    </tr>\n",
       "    <tr>\n",
       "      <th>9077</th>\n",
       "      <td>@mention your PR guy just convinced me to swit...</td>\n",
       "      <td>Apple</td>\n",
       "      <td>Apple Positive</td>\n",
       "    </tr>\n",
       "    <tr>\n",
       "      <th>9079</th>\n",
       "      <td>&amp;quot;papyrus...sort of like the ipad&amp;quot; - ...</td>\n",
       "      <td>Apple</td>\n",
       "      <td>Apple Positive</td>\n",
       "    </tr>\n",
       "    <tr>\n",
       "      <th>9080</th>\n",
       "      <td>Diller says Google TV &amp;quot;might be run over ...</td>\n",
       "      <td>Google</td>\n",
       "      <td>Google Negative</td>\n",
       "    </tr>\n",
       "    <tr>\n",
       "      <th>9085</th>\n",
       "      <td>I've always used Camera+ for my iPhone b/c it ...</td>\n",
       "      <td>Apple</td>\n",
       "      <td>Apple Positive</td>\n",
       "    </tr>\n",
       "    <tr>\n",
       "      <th>9088</th>\n",
       "      <td>Ipad everywhere. #SXSW {link}</td>\n",
       "      <td>Apple</td>\n",
       "      <td>Apple Positive</td>\n",
       "    </tr>\n",
       "  </tbody>\n",
       "</table>\n",
       "<p>3282 rows × 3 columns</p>\n",
       "</div>"
      ],
      "text/plain": [
       "                                             tweet_text  \\\n",
       "0     .@wesley83 I have a 3G iPhone. After 3 hrs twe...   \n",
       "1     @jessedee Know about @fludapp ? Awesome iPad/i...   \n",
       "2     @swonderlin Can not wait for #iPad 2 also. The...   \n",
       "3     @sxsw I hope this year's festival isn't as cra...   \n",
       "4     @sxtxstate great stuff on Fri #SXSW: Marissa M...   \n",
       "...                                                 ...   \n",
       "9077  @mention your PR guy just convinced me to swit...   \n",
       "9079  &quot;papyrus...sort of like the ipad&quot; - ...   \n",
       "9080  Diller says Google TV &quot;might be run over ...   \n",
       "9085  I've always used Camera+ for my iPhone b/c it ...   \n",
       "9088                      Ipad everywhere. #SXSW {link}   \n",
       "\n",
       "     emotion_in_tweet_is_directed_at  \\\n",
       "0                              Apple   \n",
       "1                              Apple   \n",
       "2                              Apple   \n",
       "3                              Apple   \n",
       "4                             Google   \n",
       "...                              ...   \n",
       "9077                           Apple   \n",
       "9079                           Apple   \n",
       "9080                          Google   \n",
       "9085                           Apple   \n",
       "9088                           Apple   \n",
       "\n",
       "     is_there_an_emotion_directed_at_a_brand_or_product  \n",
       "0                                        Apple Negative  \n",
       "1                                        Apple Positive  \n",
       "2                                        Apple Positive  \n",
       "3                                        Apple Negative  \n",
       "4                                       Google Positive  \n",
       "...                                                 ...  \n",
       "9077                                     Apple Positive  \n",
       "9079                                     Apple Positive  \n",
       "9080                                    Google Negative  \n",
       "9085                                     Apple Positive  \n",
       "9088                                     Apple Positive  \n",
       "\n",
       "[3282 rows x 3 columns]"
      ]
     },
     "execution_count": 60,
     "metadata": {},
     "output_type": "execute_result"
    }
   ],
   "source": [
    "df_brand_multiclass['is_there_an_emotion_directed_at_a_brand_or_product'] = df_brand_multiclass.apply(conditions, axis=1)\n",
    "df_brand_multiclass"
   ]
  },
  {
   "cell_type": "code",
   "execution_count": 66,
   "metadata": {},
   "outputs": [],
   "source": [
    "df_brand_multiclass['is_there_an_emotion_directed_at_a_brand_or_product'] = df_brand_multiclass['is_there_an_emotion_directed_at_a_brand_or_product'].apply(lambda x: \n",
    "0 if x == 'Apple Positive' \n",
    "else 1 if x == 'Apple Negative' \n",
    "else 2 if x == 'Google Positive'\n",
    "else 3 if x == 'Google Negative' \n",
    "else 4 if x == 'Apple Neutral' \n",
    "else 5)"
   ]
  },
  {
   "cell_type": "markdown",
   "metadata": {},
   "source": [
    "Now that our new dataframe is ready, I will follow the same pre-processing and modeling steps as before."
   ]
  },
  {
   "cell_type": "code",
   "execution_count": 62,
   "metadata": {},
   "outputs": [],
   "source": [
    "X_train, X_test, y_train, y_test = train_test_split(df_brand_multiclass['tweet_text'], df_brand_multiclass['is_there_an_emotion_directed_at_a_brand_or_product'].values, test_size=0.25)"
   ]
  },
  {
   "cell_type": "code",
   "execution_count": 63,
   "metadata": {},
   "outputs": [
    {
     "name": "stdout",
     "output_type": "stream",
     "text": [
      "0.756394640682095\n"
     ]
    },
    {
     "data": {
      "image/png": "[encoded data removed]",
      "text/plain": [
       "<Figure size 432x288 with 2 Axes>"
      ]
     },
     "metadata": {
      "needs_background": "light"
     },
     "output_type": "display_data"
    },
    {
     "name": "stdout",
     "output_type": "stream",
     "text": [
      "0: Apple Positive\n",
      "1: Apple Negative\n",
      "2: Google Positive\n",
      "3: Google Negative\n",
      "4: Apple Neutral\n",
      "5: Google Neutral\n"
     ]
    }
   ],
   "source": [
    "process(X_train, X_test, y_train, y_test)\n",
    "print('0: Apple Positive')\n",
    "print('1: Apple Negative')\n",
    "print('2: Google Positive')\n",
    "print('3: Google Negative')\n",
    "print('4: Apple Neutral')\n",
    "print('5: Google Neutral')"
   ]
  },
  {
   "cell_type": "markdown",
   "metadata": {},
   "source": [
    "Not surprisingly, this model's performance mirrors that of the previous one in that it was best at correctly predicting positive sentiment (for both Google and Apple). It also seems like the model has a good handle on distinguishing between Google and Apple - we can see this reflected in the most commonly confused predictions for each class (i.e \"Apple Positive\" is most commonly confused with \"Apple Negative\", and \"Google Negative\" is most commonly confused with \"Google Positive\"). We do see the class imbalance predictive performance playing a part here as well (i.e. \"Google Positive\" was most commonly confused with \"Apple Positive\".\n",
    "\n",
    "In order to help our model learn the differences between brands and sentiment, let's further cleanup our bag of words."
   ]
  },
  {
   "cell_type": "code",
   "execution_count": 64,
   "metadata": {},
   "outputs": [],
   "source": [
    "# Custom Tokens? i.e. removing sxsw"
   ]
  },
  {
   "cell_type": "code",
   "execution_count": null,
   "metadata": {},
   "outputs": [],
   "source": []
  },
  {
   "cell_type": "code",
   "execution_count": null,
   "metadata": {},
   "outputs": [],
   "source": []
  },
  {
   "cell_type": "code",
   "execution_count": null,
   "metadata": {},
   "outputs": [],
   "source": []
  },
  {
   "cell_type": "code",
   "execution_count": null,
   "metadata": {},
   "outputs": [],
   "source": []
  },
  {
   "cell_type": "code",
   "execution_count": null,
   "metadata": {},
   "outputs": [],
   "source": []
  }
 ],
 "metadata": {
  "kernelspec": {
   "display_name": "Python (learn-env)",
   "language": "python",
   "name": "learn-env"
  },
  "language_info": {
   "codemirror_mode": {
    "name": "ipython",
    "version": 3
   },
   "file_extension": ".py",
   "mimetype": "text/x-python",
   "name": "python",
   "nbconvert_exporter": "python",
   "pygments_lexer": "ipython3",
   "version": "3.8.5"
  }
 },
 "nbformat": 4,
 "nbformat_minor": 4
}
